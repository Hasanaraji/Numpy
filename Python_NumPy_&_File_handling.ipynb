{
  "nbformat": 4,
  "nbformat_minor": 0,
  "metadata": {
    "colab": {
      "provenance": [],
      "collapsed_sections": [
        "vyAFLy80RKlo"
      ],
      "toc_visible": true,
      "mount_file_id": "1v1fj4tyfIHYOMgzOhCs1f3KlGjghB9fe",
      "authorship_tag": "ABX9TyMO7tazmUnbCHIeitvI6af+",
      "include_colab_link": true
    },
    "kernelspec": {
      "name": "python3",
      "display_name": "Python 3"
    },
    "language_info": {
      "name": "python"
    }
  },
  "cells": [
    {
      "cell_type": "markdown",
      "metadata": {
        "id": "view-in-github",
        "colab_type": "text"
      },
      "source": [
        "<a href=\"https://colab.research.google.com/github/Hasanaraji/Numpy/blob/main/Python_NumPy_%26_File_handling.ipynb\" target=\"_parent\"><img src=\"https://colab.research.google.com/assets/colab-badge.svg\" alt=\"Open In Colab\"/></a>"
      ]
    },
    {
      "cell_type": "markdown",
      "source": [
        "# NUMPY"
      ],
      "metadata": {
        "id": "HSyBGsqFXPS7"
      }
    },
    {
      "cell_type": "markdown",
      "metadata": {
        "id": "xvqHzj7UKKP0"
      },
      "source": [
        "## Introduction\n",
        "\n",
        "Python has many packages for working with data and performing operations like the loading, analysing and storing of data. Numpy and Pandas are two commonly used and useful ones. In this train, you will learn some of the basic operations in Numpy and Pandas.\n",
        "\n",
        "# Numpy\n",
        "Numpy is a Python package which provides high-performance, multidimensional array objects, numerical computing tools, and is fundamental in scientific computing. It is the core library for scientific computing in Python ([see the full documentation](https://numpy.org/)).\n",
        "\n",
        "### What is an Array?\n",
        "Similar to that of a Python list, a numpy array is a data structure which stores multiple values. The main difference between the two is that lists can contain heterogeneous data types (combinations of `str`, `int`, even `list`), whilst numpy arrays can only store values of the same data type. Numpy arrays can be thought of as a grid of values and can be multi-dimensional.\n",
        "\n",
        "Numpy arrays are stored more efficiently than Python lists and allow mathematical operations to be vectorized, which results in significantly higher performance than with looping constructs in Python.\n",
        "\n",
        "### Creating a Numpy Array\n",
        "If we want to work with any numpy objects or functions we need to import the Numpy library, but first we want to that our package installer is up to date and the numpy we'll be working with is the latest version."
      ]
    },
    {
      "cell_type": "code",
      "execution_count": null,
      "metadata": {
        "id": "cW9J-Bri9T6Z",
        "colab": {
          "base_uri": "https://localhost:8080/"
        },
        "outputId": "92fc591c-c192-46ac-af94-756c79a1baab"
      },
      "outputs": [
        {
          "output_type": "stream",
          "name": "stdout",
          "text": [
            "Requirement already satisfied: pip in /usr/local/lib/python3.11/dist-packages (24.1.2)\n",
            "Collecting pip\n",
            "  Downloading pip-25.1.1-py3-none-any.whl.metadata (3.6 kB)\n",
            "Downloading pip-25.1.1-py3-none-any.whl (1.8 MB)\n",
            "\u001b[2K   \u001b[90m━━━━━━━━━━━━━━━━━━━━━━━━━━━━━━━━━━━━━━━━\u001b[0m \u001b[32m1.8/1.8 MB\u001b[0m \u001b[31m20.6 MB/s\u001b[0m eta \u001b[36m0:00:00\u001b[0m\n",
            "\u001b[?25hInstalling collected packages: pip\n",
            "  Attempting uninstall: pip\n",
            "    Found existing installation: pip 24.1.2\n",
            "    Uninstalling pip-24.1.2:\n",
            "      Successfully uninstalled pip-24.1.2\n",
            "Successfully installed pip-25.1.1\n"
          ]
        }
      ],
      "source": [
        "# Ensure the Package Installer is up to date.\n",
        "\n",
        "!pip install --upgrade pip"
      ]
    },
    {
      "cell_type": "code",
      "source": [
        "# Install latest numpy\n",
        "!pip install numpy"
      ],
      "metadata": {
        "id": "uzjx-MFH99cu",
        "colab": {
          "base_uri": "https://localhost:8080/"
        },
        "outputId": "b78ab11e-1e46-4b97-e66b-5e4098378afb"
      },
      "execution_count": null,
      "outputs": [
        {
          "output_type": "stream",
          "name": "stdout",
          "text": [
            "Requirement already satisfied: numpy in /usr/local/lib/python3.11/dist-packages (2.0.2)\n"
          ]
        }
      ]
    },
    {
      "cell_type": "code",
      "source": [
        "# Import numpy into our workspace\n",
        "\n",
        "import numpy as np"
      ],
      "metadata": {
        "id": "4ni9J4FB-I7f"
      },
      "execution_count": 1,
      "outputs": []
    },
    {
      "cell_type": "markdown",
      "source": [
        "Understanding dimensionality"
      ],
      "metadata": {
        "id": "ilTwPFkFq0oS"
      }
    },
    {
      "cell_type": "code",
      "source": [
        "Zero_d = 98\n",
        "\n",
        "one_d = [98, 67, 45]\n",
        "\n",
        "two_d = [\n",
        "    [98, 67, 45],\n",
        "    [89, 34, 78],\n",
        "    [45, 43, 56],\n",
        "    [12, 23, 53]\n",
        "    ]\n",
        "\n",
        "three_d = [\n",
        "    [\n",
        "    [98, 67, 45],\n",
        "    [89, 34, 78],\n",
        "    [45, 43, 56],\n",
        "    [12, 23, 53]\n",
        "    ],\n",
        "    [\n",
        "    [98, 67, 45],\n",
        "    [89, 34, 78],\n",
        "    [45, 43, 56],\n",
        "    [12, 23, 53]\n",
        "    ]\n",
        "    ]"
      ],
      "metadata": {
        "id": "9IFq3-cPpAK5"
      },
      "execution_count": null,
      "outputs": []
    },
    {
      "cell_type": "markdown",
      "metadata": {
        "id": "OmJnHik3KKP7"
      },
      "source": [
        "To make a numpy array, you use the `np.array()` function. All you need to do is pass a list to it and optionally, you can specify the data type of the data. Let's look at an example:"
      ]
    },
    {
      "cell_type": "code",
      "source": [
        "print([1,3,4])  # a list"
      ],
      "metadata": {
        "colab": {
          "base_uri": "https://localhost:8080/"
        },
        "id": "TkP4tZQbrBHG",
        "outputId": "52d1e976-318f-402f-f5e6-b4be937af07a"
      },
      "execution_count": null,
      "outputs": [
        {
          "output_type": "stream",
          "name": "stdout",
          "text": [
            "[1, 3, 4]\n"
          ]
        }
      ]
    },
    {
      "cell_type": "code",
      "source": [
        "np.array([1,3,4])  #an array"
      ],
      "metadata": {
        "colab": {
          "base_uri": "https://localhost:8080/"
        },
        "id": "lPC2sg84rRDq",
        "outputId": "9f4687ca-1823-47d5-8e84-2cbd5f747325"
      },
      "execution_count": null,
      "outputs": [
        {
          "output_type": "execute_result",
          "data": {
            "text/plain": [
              "array([1, 3, 4])"
            ]
          },
          "metadata": {},
          "execution_count": 9
        }
      ]
    },
    {
      "cell_type": "code",
      "source": [
        "# Create our first array\n",
        "\n",
        "# Creating a 1D array\n",
        "arr_1d = np.array([1, 2, 3])\n",
        "\n",
        "print(arr_1d)\n",
        "print(type(arr_1d))"
      ],
      "metadata": {
        "id": "WrN7uKIw-l-Q",
        "colab": {
          "base_uri": "https://localhost:8080/"
        },
        "outputId": "e1d5632f-c029-40e1-c44c-13ef40b6ba43"
      },
      "execution_count": null,
      "outputs": [
        {
          "output_type": "stream",
          "name": "stdout",
          "text": [
            "[1 2 3]\n",
            "<class 'numpy.ndarray'>\n"
          ]
        }
      ]
    },
    {
      "cell_type": "code",
      "source": [
        "list1 = [1,2,3,4]  # a normal list\n",
        "\n",
        "print(list1)"
      ],
      "metadata": {
        "id": "-2_c8rvRAq6K",
        "colab": {
          "base_uri": "https://localhost:8080/"
        },
        "outputId": "a105ea77-2e71-4f32-e92d-3095e1be7749"
      },
      "execution_count": null,
      "outputs": [
        {
          "output_type": "stream",
          "name": "stdout",
          "text": [
            "[1, 2, 3, 4]\n"
          ]
        }
      ]
    },
    {
      "cell_type": "code",
      "source": [
        "# Create array from an existing list\n",
        "\n",
        "arr_1d2 = np.array(list1)\n",
        "\n",
        "print(arr_1d2)\n",
        "print(type(arr_1d2))"
      ],
      "metadata": {
        "id": "xLpIqg66_2q-",
        "colab": {
          "base_uri": "https://localhost:8080/"
        },
        "outputId": "dda62367-1047-4903-bf0c-138a260b58c4"
      },
      "execution_count": null,
      "outputs": [
        {
          "output_type": "stream",
          "name": "stdout",
          "text": [
            "[1 2 3 4]\n",
            "<class 'numpy.ndarray'>\n"
          ]
        }
      ]
    },
    {
      "cell_type": "markdown",
      "source": [
        "We can inspect the shape of the array by using its shape attribute. This will return a tuple of integers giving the size of the array along each dimension."
      ],
      "metadata": {
        "id": "FXC2R12oLk85"
      }
    },
    {
      "cell_type": "code",
      "source": [
        "#confirm the dimension of numpy array using arr.shape attribute\n",
        "\n",
        "arr_1d.shape"
      ],
      "metadata": {
        "id": "SUNmJRsoCJe-",
        "colab": {
          "base_uri": "https://localhost:8080/"
        },
        "outputId": "ad0bd385-e706-43bb-a379-fbb3af6daf91"
      },
      "execution_count": null,
      "outputs": [
        {
          "output_type": "execute_result",
          "data": {
            "text/plain": [
              "(3,)"
            ]
          },
          "metadata": {},
          "execution_count": 13
        }
      ]
    },
    {
      "cell_type": "markdown",
      "source": [
        "Seeing just one number in the output of the shape attribute, tells us we have a 1-D numpy array."
      ],
      "metadata": {
        "id": "QQiShmOaFDrB"
      }
    },
    {
      "cell_type": "code",
      "source": [
        "# Creating a 2D array\n",
        "\n",
        "arr_2d = np.array([[1, 2, 3],\n",
        "                   [4, 5, 6]]) #looks like creating a list of lists.\n",
        "print(arr_2d)\n",
        "print(type(arr_2d))"
      ],
      "metadata": {
        "id": "-v28j0S5A_20",
        "colab": {
          "base_uri": "https://localhost:8080/"
        },
        "outputId": "5630769e-785a-406e-8a4a-7682b203ed4c"
      },
      "execution_count": null,
      "outputs": [
        {
          "output_type": "stream",
          "name": "stdout",
          "text": [
            "[[1 2 3]\n",
            " [4 5 6]]\n",
            "<class 'numpy.ndarray'>\n"
          ]
        }
      ]
    },
    {
      "cell_type": "code",
      "source": [
        "arr_2d.shape"
      ],
      "metadata": {
        "id": "tT6QKMIvBniH",
        "colab": {
          "base_uri": "https://localhost:8080/"
        },
        "outputId": "78c0f4cd-38ff-4f27-f146-0740086ed170"
      },
      "execution_count": null,
      "outputs": [
        {
          "output_type": "execute_result",
          "data": {
            "text/plain": [
              "(2, 3)"
            ]
          },
          "metadata": {},
          "execution_count": 15
        }
      ]
    },
    {
      "cell_type": "markdown",
      "source": [
        "Seeing 2 numbers in the output of the shape attribute, tells us we have a 2-D numpy array."
      ],
      "metadata": {
        "id": "kw3IMqN3NVuO"
      }
    },
    {
      "cell_type": "code",
      "source": [
        "#3-d array\n",
        "\n",
        "# Create a 3D array with shape (2,3,4)\n",
        "#(2planes with each containing 3rows and 4 columns)\n",
        "arr_3d = np.array([[[1, 2, 3, 4],\n",
        "                   [5, 6, 7, 8],\n",
        "                   [9, 10, 11, 12]],\n",
        "\n",
        "                  [[13, 14, 15, 16],\n",
        "                   [17, 18, 19, 20],\n",
        "                   [21, 22, 23, 24]]])\n",
        "\n",
        "print(arr_3d)"
      ],
      "metadata": {
        "id": "5XWNfSI_CA-g",
        "colab": {
          "base_uri": "https://localhost:8080/"
        },
        "outputId": "837c7a85-7a91-4b60-b9d5-99e25976ab77"
      },
      "execution_count": null,
      "outputs": [
        {
          "output_type": "stream",
          "name": "stdout",
          "text": [
            "[[[ 1  2  3  4]\n",
            "  [ 5  6  7  8]\n",
            "  [ 9 10 11 12]]\n",
            "\n",
            " [[13 14 15 16]\n",
            "  [17 18 19 20]\n",
            "  [21 22 23 24]]]\n"
          ]
        }
      ]
    },
    {
      "cell_type": "code",
      "source": [
        "#check shape\n",
        "print(arr_3d.shape)"
      ],
      "metadata": {
        "id": "8O2IqUikDwK1",
        "colab": {
          "base_uri": "https://localhost:8080/"
        },
        "outputId": "daeab0a1-36b5-4bd7-a432-509e8125a78a"
      },
      "execution_count": null,
      "outputs": [
        {
          "output_type": "stream",
          "name": "stdout",
          "text": [
            "(2, 3, 4)\n"
          ]
        }
      ]
    },
    {
      "cell_type": "markdown",
      "source": [
        "Seeing 3 numbers in the output of the shape attribute, tells us we have a 3-D numpy array."
      ],
      "metadata": {
        "id": "O1weP5ydNlOG"
      }
    },
    {
      "cell_type": "markdown",
      "metadata": {
        "id": "h-7c3rZD1FtQ"
      },
      "source": [
        "## Indexing & Slicing"
      ]
    },
    {
      "cell_type": "markdown",
      "source": [
        "Recall the indexing, slicing and mutability of lists"
      ],
      "metadata": {
        "id": "csnknkurQjCB"
      }
    },
    {
      "cell_type": "code",
      "execution_count": null,
      "metadata": {
        "id": "Dz-ug8mL0w2y"
      },
      "outputs": [],
      "source": [
        "students =[\"Simon Ogunleye\", \"Jesselyn Ayanka\", \"Philip Donatus\"]"
      ]
    },
    {
      "cell_type": "code",
      "source": [
        "students[2] #access the 3rd element"
      ],
      "metadata": {
        "id": "8sGS4E2eP0QM",
        "colab": {
          "base_uri": "https://localhost:8080/",
          "height": 35
        },
        "outputId": "0dc0b0c3-1ddf-4864-f9b5-f0a6087e2e3b"
      },
      "execution_count": null,
      "outputs": [
        {
          "output_type": "execute_result",
          "data": {
            "text/plain": [
              "'Philip Donatus'"
            ],
            "application/vnd.google.colaboratory.intrinsic+json": {
              "type": "string"
            }
          },
          "metadata": {},
          "execution_count": 19
        }
      ]
    },
    {
      "cell_type": "code",
      "source": [
        "students[2:] #slice containing the last element"
      ],
      "metadata": {
        "id": "vWKL3rEUIqQW",
        "colab": {
          "base_uri": "https://localhost:8080/"
        },
        "outputId": "9dbb0d32-6c22-4cda-db1d-ef8981c91e94"
      },
      "execution_count": null,
      "outputs": [
        {
          "output_type": "execute_result",
          "data": {
            "text/plain": [
              "['Philip Donatus']"
            ]
          },
          "metadata": {},
          "execution_count": 20
        }
      ]
    },
    {
      "cell_type": "code",
      "execution_count": null,
      "metadata": {
        "id": "YFVCFcwM1hYl",
        "colab": {
          "base_uri": "https://localhost:8080/",
          "height": 35
        },
        "outputId": "2e18c5b0-58c5-4dcd-82cd-7b6d70f7bc5e"
      },
      "outputs": [
        {
          "output_type": "execute_result",
          "data": {
            "text/plain": [
              "'P'"
            ],
            "application/vnd.google.colaboratory.intrinsic+json": {
              "type": "string"
            }
          },
          "metadata": {},
          "execution_count": 21
        }
      ],
      "source": [
        "students[2][0] #access the first element in the 3rd element"
      ]
    },
    {
      "cell_type": "code",
      "source": [
        "students[:2][0] #access the first element in a slice"
      ],
      "metadata": {
        "id": "IKAgWVo_H_2n",
        "colab": {
          "base_uri": "https://localhost:8080/",
          "height": 35
        },
        "outputId": "91abc308-90ab-4d72-fae7-d5f21cc8cbcb"
      },
      "execution_count": null,
      "outputs": [
        {
          "output_type": "execute_result",
          "data": {
            "text/plain": [
              "'Simon Ogunleye'"
            ],
            "application/vnd.google.colaboratory.intrinsic+json": {
              "type": "string"
            }
          },
          "metadata": {},
          "execution_count": 22
        }
      ]
    },
    {
      "cell_type": "code",
      "execution_count": null,
      "metadata": {
        "id": "Xt9FwpQV2NTE",
        "colab": {
          "base_uri": "https://localhost:8080/"
        },
        "outputId": "e604ed47-78e5-427f-de60-932965923036"
      },
      "outputs": [
        {
          "output_type": "stream",
          "name": "stdout",
          "text": [
            "Simo\n"
          ]
        }
      ],
      "source": [
        "print(students[:2][0][:4])"
      ]
    },
    {
      "cell_type": "code",
      "execution_count": null,
      "metadata": {
        "id": "NhXipWV_7cAE",
        "colab": {
          "base_uri": "https://localhost:8080/"
        },
        "outputId": "e786111c-b108-43b7-e25f-1e1e07b258ea"
      },
      "outputs": [
        {
          "output_type": "stream",
          "name": "stdout",
          "text": [
            "['we', 'go', 'down']\n"
          ]
        }
      ],
      "source": [
        "b = [\"we\", \"go\", \"up\"]\n",
        "\n",
        "#replacing element in a list\n",
        "b[2] = \"down\"\n",
        "\n",
        "print(b)"
      ]
    },
    {
      "cell_type": "markdown",
      "metadata": {
        "id": "GQmgtEqn3Mrz"
      },
      "source": [
        "Indexing and slicing in numpy arrays are similar to those in most other data structures like lists and tuples"
      ]
    },
    {
      "cell_type": "code",
      "execution_count": null,
      "metadata": {
        "id": "aIJXHSvI1xJB",
        "colab": {
          "base_uri": "https://localhost:8080/"
        },
        "outputId": "e90a9e3e-35a1-47da-c588-6994b377ffa3"
      },
      "outputs": [
        {
          "output_type": "execute_result",
          "data": {
            "text/plain": [
              "array([1, 2, 3])"
            ]
          },
          "metadata": {},
          "execution_count": 25
        }
      ],
      "source": [
        "arr_1d"
      ]
    },
    {
      "cell_type": "markdown",
      "source": [
        "Conventional indexing & Slicing"
      ],
      "metadata": {
        "id": "KmjnUxHdVEPF"
      }
    },
    {
      "cell_type": "code",
      "source": [
        "# Access the 2nd item\n",
        "arr_1d[1]"
      ],
      "metadata": {
        "id": "NCtiBiyPKo6a",
        "colab": {
          "base_uri": "https://localhost:8080/"
        },
        "outputId": "7ada3a61-f8ca-41df-a46a-324f876034da"
      },
      "execution_count": null,
      "outputs": [
        {
          "output_type": "execute_result",
          "data": {
            "text/plain": [
              "np.int64(2)"
            ]
          },
          "metadata": {},
          "execution_count": 27
        }
      ]
    },
    {
      "cell_type": "code",
      "execution_count": null,
      "metadata": {
        "id": "-P22Vk5K233h",
        "colab": {
          "base_uri": "https://localhost:8080/"
        },
        "outputId": "d4932c28-d31d-4df0-d2e7-4e8815efccbb"
      },
      "outputs": [
        {
          "output_type": "execute_result",
          "data": {
            "text/plain": [
              "array([1, 2])"
            ]
          },
          "metadata": {},
          "execution_count": 28
        }
      ],
      "source": [
        "#slice out an array containing only the first 2 items\n",
        "arr_1d[:2]"
      ]
    },
    {
      "cell_type": "code",
      "execution_count": null,
      "metadata": {
        "id": "hQTiW2n627ue",
        "colab": {
          "base_uri": "https://localhost:8080/"
        },
        "outputId": "690185a7-7bf8-48df-9bd5-a70133ba98ff"
      },
      "outputs": [
        {
          "output_type": "execute_result",
          "data": {
            "text/plain": [
              "array([3])"
            ]
          },
          "metadata": {},
          "execution_count": 29
        }
      ],
      "source": [
        "arr_1d[-1:]  #negative indexing also works"
      ]
    },
    {
      "cell_type": "code",
      "execution_count": null,
      "metadata": {
        "id": "OSMLdCLg3FTH",
        "colab": {
          "base_uri": "https://localhost:8080/"
        },
        "outputId": "1872d1bd-5572-4597-c5c5-2bd33cdb31e7"
      },
      "outputs": [
        {
          "output_type": "execute_result",
          "data": {
            "text/plain": [
              "array([[1, 2, 3],\n",
              "       [4, 5, 6]])"
            ]
          },
          "metadata": {},
          "execution_count": 30
        }
      ],
      "source": [
        "#recall arr_2d\n",
        "arr_2d"
      ]
    },
    {
      "cell_type": "code",
      "execution_count": null,
      "metadata": {
        "id": "fZipuXvr3fs9",
        "colab": {
          "base_uri": "https://localhost:8080/"
        },
        "outputId": "47454c3c-8ddc-4613-e660-c5fb3bdea802"
      },
      "outputs": [
        {
          "output_type": "execute_result",
          "data": {
            "text/plain": [
              "array([1, 2, 3])"
            ]
          },
          "metadata": {},
          "execution_count": 31
        }
      ],
      "source": [
        "arr_2d[0]"
      ]
    },
    {
      "cell_type": "code",
      "execution_count": null,
      "metadata": {
        "id": "T_5ecKBZ3kDW",
        "colab": {
          "base_uri": "https://localhost:8080/"
        },
        "outputId": "aec5f8f1-6795-4af5-a99c-8a9451eb68a6"
      },
      "outputs": [
        {
          "output_type": "execute_result",
          "data": {
            "text/plain": [
              "np.int64(1)"
            ]
          },
          "metadata": {},
          "execution_count": 32
        }
      ],
      "source": [
        "arr_2d[0][0]"
      ]
    },
    {
      "cell_type": "code",
      "execution_count": null,
      "metadata": {
        "id": "W6Aes3rX45BC",
        "colab": {
          "base_uri": "https://localhost:8080/"
        },
        "outputId": "bbfa4504-9a06-482f-9825-3521199401e4"
      },
      "outputs": [
        {
          "output_type": "execute_result",
          "data": {
            "text/plain": [
              "array([1, 2])"
            ]
          },
          "metadata": {},
          "execution_count": 33
        }
      ],
      "source": [
        "arr_2d[0][:2]"
      ]
    },
    {
      "cell_type": "code",
      "source": [
        "arr_2d3 = np.array([[1,2,3,4],[5,6,7,8],[9,10,11,12]])\n",
        "arr_2d3"
      ],
      "metadata": {
        "id": "O4JiBRr7RVeL",
        "colab": {
          "base_uri": "https://localhost:8080/"
        },
        "outputId": "d4ed43aa-a934-4f20-ee60-fd9be7c1b82b"
      },
      "execution_count": null,
      "outputs": [
        {
          "output_type": "execute_result",
          "data": {
            "text/plain": [
              "array([[ 1,  2,  3,  4],\n",
              "       [ 5,  6,  7,  8],\n",
              "       [ 9, 10, 11, 12]])"
            ]
          },
          "metadata": {},
          "execution_count": 34
        }
      ]
    },
    {
      "cell_type": "code",
      "source": [
        "arr_2d3[1:]"
      ],
      "metadata": {
        "colab": {
          "base_uri": "https://localhost:8080/"
        },
        "id": "7ma5qYGRxODg",
        "outputId": "fd0d3e70-b456-48bf-8942-2c608c17eb4a"
      },
      "execution_count": null,
      "outputs": [
        {
          "output_type": "execute_result",
          "data": {
            "text/plain": [
              "array([[ 5,  6,  7,  8],\n",
              "       [ 9, 10, 11, 12]])"
            ]
          },
          "metadata": {},
          "execution_count": 35
        }
      ]
    },
    {
      "cell_type": "markdown",
      "source": [
        "#### Slicing\n",
        "\n",
        "Similar to Python lists, Numpy arrays can be sliced.\n",
        "\n",
        "Since arrays may be multi-dimensional, you must specify a slice for each dimension of the array, where the slices per dimension is split by a comma.\n",
        "\n",
        "For a 2-D array, the first dimension is the row while the second dimension is the column.\n",
        "\n",
        "    np.array[row , column] - for one element\n",
        "\n",
        "    np.array[row start:row end , column start:column end] - for an array slice i.e., more than one element\n",
        "\n",
        "Let's look at a few examples:"
      ],
      "metadata": {
        "id": "KNs0Vv1eVJNu"
      }
    },
    {
      "cell_type": "code",
      "source": [
        "# row-wise slicing\n",
        "arr_2d3[:2]"
      ],
      "metadata": {
        "id": "ph33n5_ZNINO",
        "colab": {
          "base_uri": "https://localhost:8080/"
        },
        "outputId": "46efc077-661c-4ee1-f40f-776488407286"
      },
      "execution_count": null,
      "outputs": [
        {
          "output_type": "execute_result",
          "data": {
            "text/plain": [
              "array([[1, 2, 3, 4],\n",
              "       [5, 6, 7, 8]])"
            ]
          },
          "metadata": {},
          "execution_count": 38
        }
      ]
    },
    {
      "cell_type": "code",
      "source": [
        "#column-wise slicing\n",
        "arr_2d3[:,1:3]"
      ],
      "metadata": {
        "id": "0SkwneW8OEcV",
        "colab": {
          "base_uri": "https://localhost:8080/"
        },
        "outputId": "62b2aa6f-f531-4d89-e66f-0412492892b8"
      },
      "execution_count": null,
      "outputs": [
        {
          "output_type": "execute_result",
          "data": {
            "text/plain": [
              "array([[ 2,  3],\n",
              "       [ 6,  7],\n",
              "       [10, 11]])"
            ]
          },
          "metadata": {},
          "execution_count": 39
        }
      ]
    },
    {
      "cell_type": "code",
      "source": [
        "arr_2d3"
      ],
      "metadata": {
        "colab": {
          "base_uri": "https://localhost:8080/"
        },
        "id": "NFN1E5xUy5M7",
        "outputId": "cdf39f3a-e6c8-497f-b73a-46460a2e7418"
      },
      "execution_count": null,
      "outputs": [
        {
          "output_type": "execute_result",
          "data": {
            "text/plain": [
              "array([[ 1,  2,  3,  4],\n",
              "       [ 5,  6,  7,  8],\n",
              "       [ 9, 10, 11, 12]])"
            ]
          },
          "metadata": {},
          "execution_count": 40
        }
      ]
    },
    {
      "cell_type": "code",
      "source": [
        "arr_2d3[:2,1:3]"
      ],
      "metadata": {
        "id": "Z9T8LAtTNWQH",
        "colab": {
          "base_uri": "https://localhost:8080/"
        },
        "outputId": "b349f268-d106-4acb-c656-b58fc15edc4f"
      },
      "execution_count": null,
      "outputs": [
        {
          "output_type": "execute_result",
          "data": {
            "text/plain": [
              "array([[2, 3],\n",
              "       [6, 7]])"
            ]
          },
          "metadata": {},
          "execution_count": 41
        }
      ]
    },
    {
      "cell_type": "code",
      "execution_count": null,
      "metadata": {
        "id": "TZWQRPd84hyF",
        "colab": {
          "base_uri": "https://localhost:8080/"
        },
        "outputId": "03e0f6be-5b35-4fcc-be73-05600375d082"
      },
      "outputs": [
        {
          "output_type": "execute_result",
          "data": {
            "text/plain": [
              "array([[1, 2],\n",
              "       [5, 6]])"
            ]
          },
          "metadata": {},
          "execution_count": 42
        }
      ],
      "source": [
        "arr_2d3[:2,:2]"
      ]
    },
    {
      "cell_type": "code",
      "execution_count": null,
      "metadata": {
        "id": "LzkKrMmq644X",
        "colab": {
          "base_uri": "https://localhost:8080/"
        },
        "outputId": "2a3bc434-65bf-4ca1-e051-627764b4a0ef"
      },
      "outputs": [
        {
          "output_type": "execute_result",
          "data": {
            "text/plain": [
              "array([[ 7,  8],\n",
              "       [11, 12]])"
            ]
          },
          "metadata": {},
          "execution_count": 43
        }
      ],
      "source": [
        "arr_2d3[-2:,-2:]"
      ]
    },
    {
      "cell_type": "code",
      "source": [
        "arr_2d3[1,1]"
      ],
      "metadata": {
        "id": "JPFnnDROSGcl"
      },
      "execution_count": null,
      "outputs": []
    },
    {
      "cell_type": "code",
      "source": [
        "arr_2d3"
      ],
      "metadata": {
        "id": "3kVyZIwcQtYs"
      },
      "execution_count": null,
      "outputs": []
    },
    {
      "cell_type": "code",
      "source": [
        "arr_2d3[1,1:3]"
      ],
      "metadata": {
        "id": "N5LXPFe7TZBc"
      },
      "execution_count": null,
      "outputs": []
    },
    {
      "cell_type": "code",
      "source": [
        "arr_2d3[:,0]"
      ],
      "metadata": {
        "id": "SUDfGK9US3OG"
      },
      "execution_count": null,
      "outputs": []
    },
    {
      "cell_type": "code",
      "source": [
        "arr_2d3[:,0].shape"
      ],
      "metadata": {
        "id": "826Wj-niRYMc"
      },
      "execution_count": null,
      "outputs": []
    },
    {
      "cell_type": "code",
      "source": [
        "arr_2d3[:,0:1]"
      ],
      "metadata": {
        "id": "s7Ph5wSGRBtt"
      },
      "execution_count": null,
      "outputs": []
    },
    {
      "cell_type": "code",
      "source": [
        "arr_2d3[:,0:1].shape"
      ],
      "metadata": {
        "id": "xu_yzmb8RhdO"
      },
      "execution_count": null,
      "outputs": []
    },
    {
      "cell_type": "code",
      "source": [
        "std_arr= np.array(students)\n",
        "std_arr"
      ],
      "metadata": {
        "id": "vhyweaEgTJql"
      },
      "execution_count": null,
      "outputs": []
    },
    {
      "cell_type": "code",
      "execution_count": null,
      "metadata": {
        "id": "cQK0qe_08_fp"
      },
      "outputs": [],
      "source": [
        "print(arr_3d.shape, \"\\n\")\n",
        "print(arr_3d)"
      ]
    },
    {
      "cell_type": "code",
      "execution_count": null,
      "metadata": {
        "id": "wHQNUt4A9T5V"
      },
      "outputs": [],
      "source": [
        "# Use indexing to find 8, 16, 24, 5, 17, 22"
      ]
    },
    {
      "cell_type": "code",
      "execution_count": null,
      "metadata": {
        "id": "E_M73afz_hVY"
      },
      "outputs": [],
      "source": [
        "arr_3d[0,1,3]"
      ]
    },
    {
      "cell_type": "code",
      "source": [
        "array_a = np.array([[1,2,3],[4,5,6]], dtype = np.complex64)\n",
        "\n",
        "array_a"
      ],
      "metadata": {
        "id": "pGbzi-M4WplH"
      },
      "execution_count": null,
      "outputs": []
    },
    {
      "cell_type": "markdown",
      "metadata": {
        "id": "ruGiVCfs88fL"
      },
      "source": [
        "Re-assign values to array"
      ]
    },
    {
      "cell_type": "code",
      "execution_count": null,
      "metadata": {
        "id": "O6wD-Ld18whK",
        "colab": {
          "base_uri": "https://localhost:8080/"
        },
        "outputId": "edc414b4-ec73-4a78-ddff-b1a4d7b31d7a"
      },
      "outputs": [
        {
          "output_type": "stream",
          "name": "stdout",
          "text": [
            "[1 2 3 4]\n",
            "[ 1 14  3  4]\n"
          ]
        }
      ],
      "source": [
        "#replace a single element\n",
        "print(arr_1d2)\n",
        "\n",
        "arr_1d2[1] = 14\n",
        "\n",
        "print(arr_1d2)"
      ]
    },
    {
      "cell_type": "code",
      "source": [
        "arr_2d3"
      ],
      "metadata": {
        "id": "DVdlp7NcQQjw",
        "colab": {
          "base_uri": "https://localhost:8080/"
        },
        "outputId": "8a387c28-c88b-45cd-ddf5-16028ea10568"
      },
      "execution_count": null,
      "outputs": [
        {
          "output_type": "execute_result",
          "data": {
            "text/plain": [
              "array([[ 1,  2,  3,  4],\n",
              "       [ 5,  6,  7,  8],\n",
              "       [ 9, 10, 11, 12]])"
            ]
          },
          "metadata": {},
          "execution_count": 45
        }
      ]
    },
    {
      "cell_type": "code",
      "source": [
        "#replace a section/slice with a scalar\n",
        "arr_2d3[:,3] = 30\n",
        "arr_2d3"
      ],
      "metadata": {
        "id": "hB0AaBCPQSV3",
        "colab": {
          "base_uri": "https://localhost:8080/"
        },
        "outputId": "a99cef43-6e30-46fd-a3d6-90b3cb0ac875"
      },
      "execution_count": null,
      "outputs": [
        {
          "output_type": "execute_result",
          "data": {
            "text/plain": [
              "array([[ 1,  2,  3, 30],\n",
              "       [ 5,  6,  7, 30],\n",
              "       [ 9, 10, 11, 30]])"
            ]
          },
          "metadata": {},
          "execution_count": 46
        }
      ]
    },
    {
      "cell_type": "code",
      "source": [
        "#replace a section/slice with a list/array\n",
        "arr_2d3[:,1] = [3, 1, 5]\n",
        "arr_2d3"
      ],
      "metadata": {
        "colab": {
          "base_uri": "https://localhost:8080/"
        },
        "id": "M7hxgTAU6HDw",
        "outputId": "cb525d81-9a5f-4534-816a-51bded0bb42b"
      },
      "execution_count": null,
      "outputs": [
        {
          "output_type": "execute_result",
          "data": {
            "text/plain": [
              "array([[ 1,  3,  3, 30],\n",
              "       [ 5,  1,  7, 30],\n",
              "       [ 9,  5, 11, 30]])"
            ]
          },
          "metadata": {},
          "execution_count": 64
        }
      ]
    },
    {
      "cell_type": "code",
      "source": [
        "print(arr_1d2)\n",
        "arr_1d2[:] = 25\n",
        "print(arr_1d2)"
      ],
      "metadata": {
        "colab": {
          "base_uri": "https://localhost:8080/"
        },
        "id": "0JOzzhxZ6j4W",
        "outputId": "5d782b88-0003-44be-c228-d9b94325e1c8"
      },
      "execution_count": null,
      "outputs": [
        {
          "output_type": "stream",
          "name": "stdout",
          "text": [
            "[1 2 3 4]\n",
            "[25 25 25 25]\n"
          ]
        }
      ]
    },
    {
      "cell_type": "markdown",
      "source": [
        "#### Boolean Array Indexing\n",
        "Boolean array indexing let's you pick out a selection of elements from an array. This type of indexing is often used to select the elements of an array which satisfy a specific condition.\n",
        "\n",
        "    np.array[condition]"
      ],
      "metadata": {
        "id": "D967PlfYY2C_"
      }
    },
    {
      "cell_type": "code",
      "source": [
        "arr_2d3>5"
      ],
      "metadata": {
        "id": "oLobQaASZKu1",
        "colab": {
          "base_uri": "https://localhost:8080/"
        },
        "outputId": "68a429d1-2a13-41ff-c4a2-d31b87e08fd3"
      },
      "execution_count": null,
      "outputs": [
        {
          "output_type": "execute_result",
          "data": {
            "text/plain": [
              "array([[False, False, False,  True],\n",
              "       [False,  True,  True,  True],\n",
              "       [ True,  True,  True,  True]])"
            ]
          },
          "metadata": {},
          "execution_count": 47
        }
      ]
    },
    {
      "cell_type": "code",
      "source": [
        "big_arr_2d3 = arr_2d3[arr_2d3>5]\n",
        "big_arr_2d3"
      ],
      "metadata": {
        "id": "3tgGmHAeQcH3",
        "colab": {
          "base_uri": "https://localhost:8080/"
        },
        "outputId": "342421c4-4b0d-4ff5-eea3-faf95ac8221e"
      },
      "execution_count": null,
      "outputs": [
        {
          "output_type": "execute_result",
          "data": {
            "text/plain": [
              "array([30,  6,  7, 30,  9, 10, 11, 30])"
            ]
          },
          "metadata": {},
          "execution_count": 48
        }
      ]
    },
    {
      "cell_type": "markdown",
      "source": [
        "#### Modifying Numpy Arrays\n",
        "We will now look at how to add elements to an array, followed by how to remove elements from an array.\n",
        "\n",
        "**Adding Elements**\n",
        "\n",
        "Adding elements can be done by using the `np.append()` function. This will add elements to the end of an array.\n",
        "\n",
        "**Removing Elements**\n",
        "\n",
        "Deleting elements can be done by using the `np.delete()` function. This will delete elements at the specified indices.\n",
        "\n",
        "**Reshape an array**\n",
        "\n",
        "We can reshape the array into any dimension, to do so we use the `np.reshape` function."
      ],
      "metadata": {
        "id": "F20xPCORZvlj"
      }
    },
    {
      "cell_type": "code",
      "source": [
        "arr_2d"
      ],
      "metadata": {
        "id": "eedI0QAzZUYP",
        "colab": {
          "base_uri": "https://localhost:8080/"
        },
        "outputId": "7191044d-9ec2-4e0a-8fb9-1086d15c8897"
      },
      "execution_count": null,
      "outputs": [
        {
          "output_type": "execute_result",
          "data": {
            "text/plain": [
              "array([[1, 2, 3],\n",
              "       [4, 5, 6]])"
            ]
          },
          "metadata": {},
          "execution_count": 56
        }
      ]
    },
    {
      "cell_type": "code",
      "source": [
        "#addin element\n",
        "np.append(arr_2d,7)\n"
      ],
      "metadata": {
        "id": "IJGxNODxbZ6u",
        "colab": {
          "base_uri": "https://localhost:8080/"
        },
        "outputId": "1fd81a87-66c6-4616-f739-6f50098042a1"
      },
      "execution_count": null,
      "outputs": [
        {
          "output_type": "execute_result",
          "data": {
            "text/plain": [
              "array([1, 2, 3, 4, 5, 6, 7])"
            ]
          },
          "metadata": {},
          "execution_count": 58
        }
      ]
    },
    {
      "cell_type": "code",
      "source": [
        "#removing items from numpy array\n",
        "\n",
        "arr_2d3"
      ],
      "metadata": {
        "id": "qb3dqI38bYe1",
        "colab": {
          "base_uri": "https://localhost:8080/"
        },
        "outputId": "26b555f5-ef70-4d64-80af-39324cb989c2"
      },
      "execution_count": null,
      "outputs": [
        {
          "output_type": "execute_result",
          "data": {
            "text/plain": [
              "array([[ 1,  2,  3, 30],\n",
              "       [ 5,  6,  7, 30],\n",
              "       [ 9, 10, 11, 30]])"
            ]
          },
          "metadata": {},
          "execution_count": 63
        }
      ]
    },
    {
      "cell_type": "markdown",
      "source": [
        "`np.delete()` deletes a slice of a numpy array after specifying the following:\n",
        "\n",
        "1. the array to modify\n",
        "2. the index to delete\n",
        "3. the axis or dimension to remove the slice from."
      ],
      "metadata": {
        "id": "vwYtZt1y4oqD"
      }
    },
    {
      "cell_type": "code",
      "source": [
        "# delete the 4th column from arr_2d3\n",
        "np.delete(arr_2d3, 3, 1)"
      ],
      "metadata": {
        "id": "JQmmeu7J2unq",
        "colab": {
          "base_uri": "https://localhost:8080/"
        },
        "outputId": "184aa504-02a4-4b0a-eabd-3bf083811c82"
      },
      "execution_count": null,
      "outputs": [
        {
          "output_type": "execute_result",
          "data": {
            "text/plain": [
              "array([[ 1,  2,  3],\n",
              "       [ 5,  6,  7],\n",
              "       [ 9, 10, 11]])"
            ]
          },
          "metadata": {},
          "execution_count": 60
        }
      ]
    },
    {
      "cell_type": "code",
      "source": [
        "#delete the 2nd row on arr_2d3\n",
        "np.delete(arr_2d3, 1, 0)"
      ],
      "metadata": {
        "id": "_C0Bnjq04iAP",
        "colab": {
          "base_uri": "https://localhost:8080/"
        },
        "outputId": "cd157291-7689-4c4c-a18b-70e5dff4b02d"
      },
      "execution_count": null,
      "outputs": [
        {
          "output_type": "execute_result",
          "data": {
            "text/plain": [
              "array([[ 1,  2,  3, 30],\n",
              "       [ 9, 10, 11, 30]])"
            ]
          },
          "metadata": {},
          "execution_count": 62
        }
      ]
    },
    {
      "cell_type": "markdown",
      "metadata": {
        "id": "ElHIpKb2A4BK"
      },
      "source": [
        "## Reshaping"
      ]
    },
    {
      "cell_type": "markdown",
      "metadata": {
        "id": "fn_PoY65B67O"
      },
      "source": [
        "arrays can be reshaped using the `array.reshape()` method.\n",
        "\n",
        "Note that numpy is big on homogenuity"
      ]
    },
    {
      "cell_type": "code",
      "execution_count": 20,
      "metadata": {
        "id": "3Rryi2ZMBIFr",
        "colab": {
          "base_uri": "https://localhost:8080/"
        },
        "outputId": "b07b3c23-15aa-4a36-c3ae-4d51f9ca0861"
      },
      "outputs": [
        {
          "output_type": "execute_result",
          "data": {
            "text/plain": [
              "array([[1.1, 2. , 3. ],\n",
              "       [4. , 5. , 6. ],\n",
              "       [7. , 8. , 9. ]])"
            ]
          },
          "metadata": {},
          "execution_count": 20
        }
      ],
      "source": [
        "arr_2d4 =np.array([[1.1, 2, 3],[4, 5, 6],[7,8,9]])\n",
        "arr_2d4"
      ]
    },
    {
      "cell_type": "code",
      "execution_count": null,
      "metadata": {
        "id": "8xvloQgIAPPm",
        "colab": {
          "base_uri": "https://localhost:8080/"
        },
        "outputId": "c8e43e95-7f09-44cd-8b4c-81968ca6cc40"
      },
      "outputs": [
        {
          "output_type": "execute_result",
          "data": {
            "text/plain": [
              "array([25, 25, 25, 25])"
            ]
          },
          "metadata": {},
          "execution_count": 77
        }
      ],
      "source": [
        "arr_1d2"
      ]
    },
    {
      "cell_type": "code",
      "source": [
        "arr_1d2.shape"
      ],
      "metadata": {
        "id": "Fna-WRPI57L-",
        "colab": {
          "base_uri": "https://localhost:8080/"
        },
        "outputId": "d25cee2d-7f8d-4f2f-b78a-dbde9caf6557"
      },
      "execution_count": null,
      "outputs": [
        {
          "output_type": "execute_result",
          "data": {
            "text/plain": [
              "(4,)"
            ]
          },
          "metadata": {},
          "execution_count": 74
        }
      ]
    },
    {
      "cell_type": "markdown",
      "source": [
        "Note that the product of the arguments passed as the new shape must equal the total items in the initial array"
      ],
      "metadata": {
        "id": "tx-LGkeb6PSP"
      }
    },
    {
      "cell_type": "code",
      "execution_count": null,
      "metadata": {
        "id": "5nM9nipRBAqZ"
      },
      "outputs": [],
      "source": [
        "# create a 2d array from a 1d array using reshape() method\n",
        "\n",
        "arr_2d5 = arr_1d2.reshape(4,1)"
      ]
    },
    {
      "cell_type": "code",
      "execution_count": null,
      "metadata": {
        "id": "QY2cP_k0Cqi8",
        "colab": {
          "base_uri": "https://localhost:8080/"
        },
        "outputId": "7ce1c320-55ae-4a83-a2c1-db587d3bb95e"
      },
      "outputs": [
        {
          "output_type": "execute_result",
          "data": {
            "text/plain": [
              "array([[25],\n",
              "       [25],\n",
              "       [25],\n",
              "       [25]])"
            ]
          },
          "metadata": {},
          "execution_count": 76
        }
      ],
      "source": [
        "arr_2d5"
      ]
    },
    {
      "cell_type": "code",
      "execution_count": null,
      "metadata": {
        "id": "LS6ZiMMqBYHM",
        "colab": {
          "base_uri": "https://localhost:8080/"
        },
        "outputId": "867877ee-5fc0-4665-d57e-abf5a68f80b1"
      },
      "outputs": [
        {
          "output_type": "execute_result",
          "data": {
            "text/plain": [
              "array([[25, 25],\n",
              "       [25, 25]])"
            ]
          },
          "metadata": {},
          "execution_count": 78
        }
      ],
      "source": [
        "arr_2d6 = arr_1d2.reshape(2,2)\n",
        "arr_2d6"
      ]
    },
    {
      "cell_type": "code",
      "execution_count": null,
      "metadata": {
        "id": "MUifMgYcC1lQ",
        "colab": {
          "base_uri": "https://localhost:8080/"
        },
        "outputId": "9b926f90-d23c-4cd3-b33e-2708f250c78b"
      },
      "outputs": [
        {
          "output_type": "execute_result",
          "data": {
            "text/plain": [
              "array([[1, 2, 3],\n",
              "       [4, 5, 6]])"
            ]
          },
          "metadata": {},
          "execution_count": 79
        }
      ],
      "source": [
        "arr_2d"
      ]
    },
    {
      "cell_type": "code",
      "execution_count": null,
      "metadata": {
        "id": "jWkVZYfDDWVd",
        "colab": {
          "base_uri": "https://localhost:8080/"
        },
        "outputId": "248a9c45-702f-4791-d63f-a6ac84b32cb2"
      },
      "outputs": [
        {
          "output_type": "execute_result",
          "data": {
            "text/plain": [
              "array([1, 2, 3, 4, 5, 6])"
            ]
          },
          "metadata": {},
          "execution_count": 80
        }
      ],
      "source": [
        "#reshape in a 1-d array with 6 elements\n",
        "arr_1d4 = arr_2d.reshape(6)\n",
        "\n",
        "arr_1d4"
      ]
    },
    {
      "cell_type": "code",
      "execution_count": null,
      "metadata": {
        "id": "GQJUE2l3Dix4",
        "colab": {
          "base_uri": "https://localhost:8080/"
        },
        "outputId": "c869c8c0-c58d-4066-d327-b4f18d2113a2"
      },
      "outputs": [
        {
          "output_type": "stream",
          "name": "stdout",
          "text": [
            "[[1 2 3]\n",
            " [4 5 6]]\n",
            "[[1 2]\n",
            " [3 4]\n",
            " [5 6]]\n"
          ]
        }
      ],
      "source": [
        "print(arr_2d)\n",
        "arr_2d7 = arr_2d.reshape(3,2)\n",
        "print(arr_2d7)"
      ]
    },
    {
      "cell_type": "code",
      "execution_count": null,
      "metadata": {
        "id": "uLGDm_VoDqyq",
        "colab": {
          "base_uri": "https://localhost:8080/"
        },
        "outputId": "f96df5ed-e508-4953-921d-cae0a9ebe605"
      },
      "outputs": [
        {
          "output_type": "execute_result",
          "data": {
            "text/plain": [
              "array([[ 1,  3,  3, 30],\n",
              "       [ 5,  1,  7, 30],\n",
              "       [ 9,  5, 11, 30]])"
            ]
          },
          "metadata": {},
          "execution_count": 84
        }
      ],
      "source": [
        "arr_2d3"
      ]
    },
    {
      "cell_type": "code",
      "execution_count": null,
      "metadata": {
        "id": "DXCswu5UD8Qh",
        "colab": {
          "base_uri": "https://localhost:8080/"
        },
        "outputId": "9335a5b8-2ed3-4f95-d44b-f850b75e2706"
      },
      "outputs": [
        {
          "output_type": "execute_result",
          "data": {
            "text/plain": [
              "array([[[ 1,  3],\n",
              "        [ 3, 30]],\n",
              "\n",
              "       [[ 5,  1],\n",
              "        [ 7, 30]],\n",
              "\n",
              "       [[ 9,  5],\n",
              "        [11, 30]]])"
            ]
          },
          "metadata": {},
          "execution_count": 85
        }
      ],
      "source": [
        "arr_3d2 = arr_2d3.reshape(3,2,2)\n",
        "arr_3d2"
      ]
    },
    {
      "cell_type": "markdown",
      "source": [],
      "metadata": {
        "id": "nL2gVjNE9Lx-"
      }
    },
    {
      "cell_type": "markdown",
      "source": [
        "## Element-wise operations with numpy\n",
        "\n",
        "* between array and scalar\n",
        "* between array and array"
      ],
      "metadata": {
        "id": "TfukRvusKf44"
      }
    },
    {
      "cell_type": "markdown",
      "source": [
        "### between array and scalar"
      ],
      "metadata": {
        "id": "1Er4CLw9Kw3y"
      }
    },
    {
      "cell_type": "code",
      "source": [
        "matrix_B = arr_2d4.copy()\n",
        "matrix_B"
      ],
      "metadata": {
        "colab": {
          "base_uri": "https://localhost:8080/"
        },
        "id": "cGkLzbfi93Qk",
        "outputId": "9e6b2003-178d-41a3-ad07-b3a60dcbe594"
      },
      "execution_count": null,
      "outputs": [
        {
          "output_type": "execute_result",
          "data": {
            "text/plain": [
              "array([[1.1, 2. , 3. ],\n",
              "       [4. , 5. , 6. ],\n",
              "       [7. , 8. , 9. ]])"
            ]
          },
          "metadata": {},
          "execution_count": 86
        }
      ]
    },
    {
      "cell_type": "code",
      "source": [
        "print(matrix_B)\n",
        "\n",
        "print(matrix_B +10) #add 10 to each element in matrix_B"
      ],
      "metadata": {
        "id": "pUprd0sCKJjs",
        "colab": {
          "base_uri": "https://localhost:8080/"
        },
        "outputId": "4f7e5140-55f4-4160-99ac-df610dd94bbc"
      },
      "execution_count": null,
      "outputs": [
        {
          "output_type": "stream",
          "name": "stdout",
          "text": [
            "[[1.1 2.  3. ]\n",
            " [4.  5.  6. ]\n",
            " [7.  8.  9. ]]\n",
            "[[11.1 12.  13. ]\n",
            " [14.  15.  16. ]\n",
            " [17.  18.  19. ]]\n"
          ]
        }
      ]
    },
    {
      "cell_type": "code",
      "source": [
        "print(matrix_B)\n",
        "print(matrix_B//2) ##floor division of each element in matrix_B by 2"
      ],
      "metadata": {
        "id": "Pi3ZMd9GLEYu",
        "colab": {
          "base_uri": "https://localhost:8080/"
        },
        "outputId": "1b7fd86e-2b2f-4bdb-f308-ecf8df557105"
      },
      "execution_count": null,
      "outputs": [
        {
          "output_type": "stream",
          "name": "stdout",
          "text": [
            "[[1.1 2.  3. ]\n",
            " [4.  5.  6. ]\n",
            " [7.  8.  9. ]]\n",
            "[[0. 1. 1.]\n",
            " [2. 2. 3.]\n",
            " [3. 4. 4.]]\n"
          ]
        }
      ]
    },
    {
      "cell_type": "code",
      "source": [
        "doubled_b = matrix_B*2\n",
        "doubled_b"
      ],
      "metadata": {
        "colab": {
          "base_uri": "https://localhost:8080/"
        },
        "id": "xMRlZllB-h-H",
        "outputId": "038b9b95-35e5-45f5-fc13-8878643897aa"
      },
      "execution_count": null,
      "outputs": [
        {
          "output_type": "execute_result",
          "data": {
            "text/plain": [
              "array([[ 2.2,  4. ,  6. ],\n",
              "       [ 8. , 10. , 12. ],\n",
              "       [14. , 16. , 18. ]])"
            ]
          },
          "metadata": {},
          "execution_count": 89
        }
      ]
    },
    {
      "cell_type": "markdown",
      "source": [
        "### between arrays and arrays"
      ],
      "metadata": {
        "id": "k9IouawvLuMn"
      }
    },
    {
      "cell_type": "markdown",
      "source": [
        "* arrays must be of same shape for addition and subtraction\n",
        "\n",
        "* multiplication: just like matrices multiplication\n",
        "arrays, must be compatible for element_wise multiplication."
      ],
      "metadata": {
        "id": "5xDYRSmaMKeR"
      }
    },
    {
      "cell_type": "code",
      "source": [
        "matrix_A = np.array([[3,4,2],[5,7,8],[1,0,9]])\n",
        "print(matrix_A)\n",
        "print(matrix_B)"
      ],
      "metadata": {
        "id": "LOaWJRQhLX9y",
        "colab": {
          "base_uri": "https://localhost:8080/"
        },
        "outputId": "e7788d23-2611-4ed9-d935-4a9594145535"
      },
      "execution_count": null,
      "outputs": [
        {
          "output_type": "stream",
          "name": "stdout",
          "text": [
            "[[3 4 2]\n",
            " [5 7 8]\n",
            " [1 0 9]]\n",
            "[[1.1 2.  3. ]\n",
            " [4.  5.  6. ]\n",
            " [7.  8.  9. ]]\n"
          ]
        }
      ]
    },
    {
      "cell_type": "code",
      "source": [
        "matrix_B - matrix_A"
      ],
      "metadata": {
        "id": "gY93qNfYL5Dc",
        "colab": {
          "base_uri": "https://localhost:8080/"
        },
        "outputId": "38950dcd-58b3-4239-e8e0-a16de9a007f2"
      },
      "execution_count": null,
      "outputs": [
        {
          "output_type": "execute_result",
          "data": {
            "text/plain": [
              "array([[-1.9, -2. ,  1. ],\n",
              "       [-1. , -2. , -2. ],\n",
              "       [ 6. ,  8. ,  0. ]])"
            ]
          },
          "metadata": {},
          "execution_count": 91
        }
      ]
    },
    {
      "cell_type": "code",
      "source": [
        "matrix_B + matrix_A"
      ],
      "metadata": {
        "colab": {
          "base_uri": "https://localhost:8080/"
        },
        "id": "jydOg-m6_AE0",
        "outputId": "d7724ab3-fbb5-43b4-9ce7-c8c36ce28177"
      },
      "execution_count": null,
      "outputs": [
        {
          "output_type": "execute_result",
          "data": {
            "text/plain": [
              "array([[ 4.1,  6. ,  5. ],\n",
              "       [ 9. , 12. , 14. ],\n",
              "       [ 8. ,  8. , 18. ]])"
            ]
          },
          "metadata": {},
          "execution_count": 92
        }
      ]
    },
    {
      "cell_type": "code",
      "source": [
        "matrix_B * matrix_A"
      ],
      "metadata": {
        "id": "cXMhh246ToXJ",
        "colab": {
          "base_uri": "https://localhost:8080/"
        },
        "outputId": "a9b6730a-b00c-4107-8551-dda20261a36b"
      },
      "execution_count": null,
      "outputs": [
        {
          "output_type": "execute_result",
          "data": {
            "text/plain": [
              "array([[ 3.3,  8. ,  6. ],\n",
              "       [20. , 35. , 48. ],\n",
              "       [ 7. ,  0. , 81. ]])"
            ]
          },
          "metadata": {},
          "execution_count": 93
        }
      ]
    },
    {
      "cell_type": "code",
      "source": [
        "np.multiply(matrix_B, matrix_A)"
      ],
      "metadata": {
        "id": "0fs_Q9wqMIDt",
        "colab": {
          "base_uri": "https://localhost:8080/"
        },
        "outputId": "0b8adea8-d401-4bda-e792-cd4a591d98be"
      },
      "execution_count": null,
      "outputs": [
        {
          "output_type": "execute_result",
          "data": {
            "text/plain": [
              "array([[ 3.3,  8. ,  6. ],\n",
              "       [20. , 35. , 48. ],\n",
              "       [ 7. ,  0. , 81. ]])"
            ]
          },
          "metadata": {},
          "execution_count": 94
        }
      ]
    },
    {
      "cell_type": "markdown",
      "source": [
        "Further reading:\n",
        "\n",
        "* dot-multiplication: `np.dot()`\n",
        "* matrix multiplications: `np.matmul()`"
      ],
      "metadata": {
        "id": "2jqh0-SKTxWB"
      }
    },
    {
      "cell_type": "markdown",
      "source": [
        "## Data types in numpy\n",
        "\n",
        "```\n",
        "* np.int32, np.int16, np.int64\n",
        "* np.float32, np.float16, np.float64\n",
        "* np.str\n",
        "* np.bool\n",
        "* np.complex64\n",
        "\n",
        "```\n"
      ],
      "metadata": {
        "id": "qM0s_Yxc_9OS"
      }
    },
    {
      "cell_type": "code",
      "source": [
        "# Create an initial integer array\n",
        "array_a = np.array([[1, 2, 3.5], [4, 5, 6]], np.int32)\n",
        "array_a\n",
        "#print(\"Integer array:\\n\", array_a)"
      ],
      "metadata": {
        "colab": {
          "base_uri": "https://localhost:8080/"
        },
        "id": "yJvM8uHKBAJG",
        "outputId": "860667eb-b7ae-4217-83de-085294a2fd9a"
      },
      "execution_count": null,
      "outputs": [
        {
          "output_type": "execute_result",
          "data": {
            "text/plain": [
              "array([[1, 2, 3],\n",
              "       [4, 5, 6]], dtype=int32)"
            ]
          },
          "metadata": {},
          "execution_count": 100
        }
      ]
    },
    {
      "cell_type": "code",
      "source": [
        "# Create a float array\n",
        "array_b = np.array([[1, 2, 3], [4, 5, 6]], np.float64)\n",
        "print(\"float array:\", array_b)"
      ],
      "metadata": {
        "colab": {
          "base_uri": "https://localhost:8080/"
        },
        "id": "-GRVM6QrBrZl",
        "outputId": "84423c76-0923-4a2d-dfb2-715dd44c24f4"
      },
      "execution_count": null,
      "outputs": [
        {
          "output_type": "stream",
          "name": "stdout",
          "text": [
            "float array: [[1. 2. 3.]\n",
            " [4. 5. 6.]]\n"
          ]
        }
      ]
    },
    {
      "cell_type": "code",
      "source": [
        "np.array(students, np.str_)"
      ],
      "metadata": {
        "colab": {
          "base_uri": "https://localhost:8080/"
        },
        "id": "t9a9SKObB6cm",
        "outputId": "2d6b5a04-1168-4aee-d5ce-b303162d422c"
      },
      "execution_count": null,
      "outputs": [
        {
          "output_type": "execute_result",
          "data": {
            "text/plain": [
              "array(['Simon Ogunleye', 'Jesselyn Ayanka'], dtype='<U15')"
            ]
          },
          "metadata": {},
          "execution_count": 104
        }
      ]
    },
    {
      "cell_type": "code",
      "source": [
        "# Create a string array\n",
        "array_s = np.array([[1, 2, 3], [4, 5, 6]], np.str_)\n",
        "print(\"String array:\", array_s)"
      ],
      "metadata": {
        "colab": {
          "base_uri": "https://localhost:8080/"
        },
        "id": "UzCfXJpHCcqH",
        "outputId": "76391f32-2f94-4b1a-d05a-d7eb77c0d6cb"
      },
      "execution_count": null,
      "outputs": [
        {
          "output_type": "stream",
          "name": "stdout",
          "text": [
            "String array: [['1' '2' '3']\n",
            " ['4' '5' '6']]\n"
          ]
        }
      ]
    },
    {
      "cell_type": "code",
      "source": [
        "# Create a boolean array\n",
        "array_d = np.array([[1, 2, 3], [0, 5, 6]], np.bool)\n",
        "print(\"Boolean array:\", array_d)"
      ],
      "metadata": {
        "colab": {
          "base_uri": "https://localhost:8080/"
        },
        "id": "UT_98Ab3Cqvs",
        "outputId": "10acbc51-6598-4a30-9cdf-f2b2b8b512a9"
      },
      "execution_count": null,
      "outputs": [
        {
          "output_type": "stream",
          "name": "stdout",
          "text": [
            "Boolean array: [[ True  True  True]\n",
            " [False  True  True]]\n"
          ]
        }
      ]
    },
    {
      "cell_type": "code",
      "source": [
        "# Create a complex number array\n",
        "array_c = np.array([[1, 2, 3], [0, 5, 6]], np.complex256)\n",
        "\n",
        "#print(\"Complex number array:\", array_c)"
      ],
      "metadata": {
        "colab": {
          "base_uri": "https://localhost:8080/"
        },
        "id": "c5PdNW2LDAlU",
        "outputId": "6d3d5588-4a81-46bf-d146-9e92fbca0d02"
      },
      "execution_count": null,
      "outputs": [
        {
          "output_type": "stream",
          "name": "stdout",
          "text": [
            "Complex number array: [[1.+0.j 2.+0.j 3.+0.j]\n",
            " [0.+0.j 5.+0.j 6.+0.j]]\n"
          ]
        }
      ]
    },
    {
      "cell_type": "markdown",
      "metadata": {
        "id": "vyAFLy80RKlo"
      },
      "source": [
        "## Generate data with numpy\n",
        "\n",
        "```\n",
        "* np.arange()\n",
        "* np.empty()\n",
        "* 0s and 1s {np.zeros(), np.ones()}\n",
        "* np.full()\n",
        "* np.empty_like()\n",
        "* np.linspace()\n",
        "* np.random()\n",
        "```\n"
      ]
    },
    {
      "cell_type": "markdown",
      "source": [
        "### np.arange\n",
        "\n",
        "Creates an array with evenly spaced values within a specified range (similar to Python’s `range()` but returns an array)."
      ],
      "metadata": {
        "id": "2NRSi4PiGooS"
      }
    },
    {
      "cell_type": "code",
      "source": [
        "#recall the range() function\n",
        "\n",
        "range(2,10,3)"
      ],
      "metadata": {
        "id": "YyXxo9Gg9EAn",
        "colab": {
          "base_uri": "https://localhost:8080/"
        },
        "outputId": "a1ff04c3-128f-40b5-af89-ce057b2532ea"
      },
      "execution_count": 2,
      "outputs": [
        {
          "output_type": "execute_result",
          "data": {
            "text/plain": [
              "range(2, 10, 3)"
            ]
          },
          "metadata": {},
          "execution_count": 2
        }
      ]
    },
    {
      "cell_type": "code",
      "source": [
        "list(range(2,10,3))"
      ],
      "metadata": {
        "id": "HC4SaSdq9Wxy",
        "colab": {
          "base_uri": "https://localhost:8080/"
        },
        "outputId": "c1ec7c7d-a28d-4c74-a8da-f3a836dd4ee4"
      },
      "execution_count": 3,
      "outputs": [
        {
          "output_type": "execute_result",
          "data": {
            "text/plain": [
              "[2, 5, 8]"
            ]
          },
          "metadata": {},
          "execution_count": 3
        }
      ]
    },
    {
      "cell_type": "markdown",
      "source": [
        "np.arange() follows this rule.\n",
        "\n",
        "Syntax:\n",
        "\n",
        "    np.arange(start, stop, step, dtype)\n"
      ],
      "metadata": {
        "id": "ntrmf_av9e-i"
      }
    },
    {
      "cell_type": "code",
      "source": [
        "np.arange(5,20,2,np.float32)"
      ],
      "metadata": {
        "colab": {
          "base_uri": "https://localhost:8080/"
        },
        "id": "urNVX_Dx_vqb",
        "outputId": "0ab2a320-4bbe-45be-8900-042257abc2d3"
      },
      "execution_count": 9,
      "outputs": [
        {
          "output_type": "execute_result",
          "data": {
            "text/plain": [
              "array([ 5.,  7.,  9., 11., 13., 15., 17., 19.], dtype=float32)"
            ]
          },
          "metadata": {},
          "execution_count": 9
        }
      ]
    },
    {
      "cell_type": "code",
      "execution_count": 4,
      "metadata": {
        "id": "98UhrPm2YyMs",
        "colab": {
          "base_uri": "https://localhost:8080/"
        },
        "outputId": "3c10303a-a842-4a4e-8989-376e28acec47"
      },
      "outputs": [
        {
          "output_type": "execute_result",
          "data": {
            "text/plain": [
              "array([0, 2, 4, 6, 8])"
            ]
          },
          "metadata": {},
          "execution_count": 4
        }
      ],
      "source": [
        "np.arange(0,10,2)"
      ]
    },
    {
      "cell_type": "code",
      "execution_count": 5,
      "metadata": {
        "id": "yYUNNCJkY0Zd"
      },
      "outputs": [],
      "source": [
        "b = np.arange(10,25,3)"
      ]
    },
    {
      "cell_type": "code",
      "source": [
        "b"
      ],
      "metadata": {
        "id": "5vzi2IfZ9lW4",
        "colab": {
          "base_uri": "https://localhost:8080/"
        },
        "outputId": "42f8a698-337e-41ed-a581-562ba21e6667"
      },
      "execution_count": 6,
      "outputs": [
        {
          "output_type": "execute_result",
          "data": {
            "text/plain": [
              "array([10, 13, 16, 19, 22])"
            ]
          },
          "metadata": {},
          "execution_count": 6
        }
      ]
    },
    {
      "cell_type": "markdown",
      "source": [
        "### np.empty()\n",
        "\n",
        " Creates an array without initializing its values (values will be random). Yes it is fast, but values are garbage, so set them explicitly later, if needed.\n"
      ],
      "metadata": {
        "id": "yBZZJINmG0iy"
      }
    },
    {
      "cell_type": "code",
      "execution_count": 13,
      "metadata": {
        "id": "9kQmyzbvPrjr",
        "colab": {
          "base_uri": "https://localhost:8080/"
        },
        "outputId": "bdf37b97-ddcc-406e-b3f8-52be4e18e667"
      },
      "outputs": [
        {
          "output_type": "execute_result",
          "data": {
            "text/plain": [
              "array([[              38844,                   0,                   0],\n",
              "       [                  0,                   0, 8319683848551211643],\n",
              "       [3180222411935070754, 4189017755886035488, 7308535291872901920],\n",
              "       [4189017755886051700, 8027140907415206688, 7018332503360695925]])"
            ]
          },
          "metadata": {},
          "execution_count": 13
        }
      ],
      "source": [
        "# np.empty creates empty array (arbitrary values) of a desired shape\n",
        "\n",
        "array_empty = np.empty(shape = (4,3), dtype= int)  #must state shape as argument\n",
        "array_empty"
      ]
    },
    {
      "cell_type": "markdown",
      "source": [
        "### np.zeros & np.ones\n",
        "\n",
        "* np.zeros() - Creates an array filled with zeros.\n",
        "* np.ones() - Creates an array filled with ones."
      ],
      "metadata": {
        "id": "Uf4QEEP9G4hM"
      }
    },
    {
      "cell_type": "code",
      "execution_count": 15,
      "metadata": {
        "id": "3iMbEuj4Taji",
        "colab": {
          "base_uri": "https://localhost:8080/"
        },
        "outputId": "d4ed26e4-66d7-4ace-8e54-63c0b26f44d0"
      },
      "outputs": [
        {
          "output_type": "stream",
          "name": "stdout",
          "text": [
            "[[0. 0.]\n",
            " [0. 0.]\n",
            " [0. 0.]\n",
            " [0. 0.]]\n",
            "[[1 1 1 1]\n",
            " [1 1 1 1]\n",
            " [1 1 1 1]]\n"
          ]
        }
      ],
      "source": [
        "#np.zeros() & np.ones() returns array of 0s and 1s for a desired array shape\n",
        "\n",
        "arr_of_0s = np.zeros(shape=(4,2))\n",
        "\n",
        "arr_of_1s = np.ones(shape=(3,4),dtype= int)\n",
        "\n",
        "print(arr_of_0s)\n",
        "print(arr_of_1s)"
      ]
    },
    {
      "cell_type": "markdown",
      "source": [
        "### np.full()\n",
        "\n",
        "* np.full() - Creates an array filled with a specific value.\n",
        "\n",
        "Syntax:\n",
        "\n",
        "    np.full(shape=(rows,columns), fill_value=x)"
      ],
      "metadata": {
        "id": "GAn4p3t6G-AI"
      }
    },
    {
      "cell_type": "code",
      "execution_count": 18,
      "metadata": {
        "id": "B3hZR4uuSBpV",
        "colab": {
          "base_uri": "https://localhost:8080/"
        },
        "outputId": "aa13ea28-784d-4dc4-cc63-12863916dbab"
      },
      "outputs": [
        {
          "output_type": "stream",
          "name": "stdout",
          "text": [
            "[[3 3 3 3]\n",
            " [3 3 3 3]]\n",
            "[['Yes!' 'Yes!']\n",
            " ['Yes!' 'Yes!']\n",
            " ['Yes!' 'Yes!']]\n"
          ]
        }
      ],
      "source": [
        "#return an 2x3 array filled with 3s\n",
        "\n",
        "arr_fl_3s = np.full((2,4),3)\n",
        "print(arr_fl_3s)\n",
        "\n",
        "arr_fl_yes = np.full(shape=(3,2),fill_value=\"Yes!\")\n",
        "print(arr_fl_yes)"
      ]
    },
    {
      "cell_type": "markdown",
      "metadata": {
        "id": "AsXV4BW1XHcU"
      },
      "source": [
        "### like function\n",
        "\n",
        "np.empty_like() returns an empty array (filled with arbitrary values) in the shape of an existing array\n",
        "\n",
        "* _like() function of a method\n",
        "\n",
        "* can also come as like argument inside a method"
      ]
    },
    {
      "cell_type": "code",
      "execution_count": 19,
      "metadata": {
        "id": "hsTYIgRYVCsF",
        "colab": {
          "base_uri": "https://localhost:8080/"
        },
        "outputId": "71b577b7-5445-475a-9f12-a4bbbc221d0a"
      },
      "outputs": [
        {
          "output_type": "stream",
          "name": "stdout",
          "text": [
            "[['' '']\n",
            " ['' '']\n",
            " ['' '']]\n",
            "[[3 3 3 3]\n",
            " [3 3 3 3]]\n"
          ]
        }
      ],
      "source": [
        "#testing _like\n",
        "empty_like_yes = np.empty_like(arr_fl_yes)\n",
        "print(empty_like_yes)  #return empty text arrays\n",
        "\n",
        "empty_lik_3s = np.empty_like(arr_fl_3s)\n",
        "print(empty_lik_3s)"
      ]
    },
    {
      "cell_type": "code",
      "source": [
        "matrix_B = arr_2d4.copy()\n",
        "matrix_B"
      ],
      "metadata": {
        "id": "iVadX3JtHbMA",
        "colab": {
          "base_uri": "https://localhost:8080/"
        },
        "outputId": "ddc5ccac-38fc-4a0f-f1d8-bcf62896c3e4"
      },
      "execution_count": 21,
      "outputs": [
        {
          "output_type": "execute_result",
          "data": {
            "text/plain": [
              "array([[1.1, 2. , 3. ],\n",
              "       [4. , 5. , 6. ],\n",
              "       [7. , 8. , 9. ]])"
            ]
          },
          "metadata": {},
          "execution_count": 21
        }
      ]
    },
    {
      "cell_type": "code",
      "execution_count": 22,
      "metadata": {
        "id": "RsTmktp5XXNE",
        "colab": {
          "base_uri": "https://localhost:8080/"
        },
        "outputId": "92a581a2-5737-4565-ed9c-79f55b7920aa"
      },
      "outputs": [
        {
          "output_type": "stream",
          "name": "stdout",
          "text": [
            "[[0. 0. 0.]\n",
            " [0. 0. 0.]\n",
            " [0. 0. 0.]]\n"
          ]
        }
      ],
      "source": [
        "arr_0s_lik_mb = np.zeros_like(matrix_B)\n",
        "print(arr_0s_lik_mb)"
      ]
    },
    {
      "cell_type": "code",
      "source": [
        "# Try on your own.\n",
        "\n",
        "# np.ones_like\n",
        "\n",
        "# np.full_like"
      ],
      "metadata": {
        "id": "7HewzYIFCgEf"
      },
      "execution_count": 23,
      "outputs": []
    },
    {
      "cell_type": "markdown",
      "source": [
        "### np.linspace()\n",
        "\n",
        "The np.linspace() function in NumPy generates evenly spaced numbers over a specified range.\n",
        "\n",
        "It allows you to define how many values you get including the specified min(start) and max(stop) value. It infers the stepsize from you specified number of values:\n",
        "\n",
        "Syntax:\n",
        "```\n",
        "np.linspace(start, stop, num)\n",
        "```"
      ],
      "metadata": {
        "id": "GZzflGA2D8f4"
      }
    },
    {
      "cell_type": "code",
      "execution_count": 24,
      "metadata": {
        "id": "CQWW7tZSZGi-",
        "colab": {
          "base_uri": "https://localhost:8080/"
        },
        "outputId": "dd9303dd-7db6-45df-9a20-188cfa8ba044"
      },
      "outputs": [
        {
          "output_type": "execute_result",
          "data": {
            "text/plain": [
              "array([0.        , 0.05263158, 0.10526316, 0.15789474, 0.21052632,\n",
              "       0.26315789, 0.31578947, 0.36842105, 0.42105263, 0.47368421,\n",
              "       0.52631579, 0.57894737, 0.63157895, 0.68421053, 0.73684211,\n",
              "       0.78947368, 0.84210526, 0.89473684, 0.94736842, 1.        ])"
            ]
          },
          "metadata": {},
          "execution_count": 24
        }
      ],
      "source": [
        "x_axis = np.linspace(0,1,20)\n",
        "x_axis"
      ]
    },
    {
      "cell_type": "code",
      "source": [
        "y_axis = np.linspace(1,10,5)\n",
        "y_axis"
      ],
      "metadata": {
        "id": "4zr4lFHxGSn5",
        "colab": {
          "base_uri": "https://localhost:8080/"
        },
        "outputId": "fab548ef-a93b-4638-e351-e04f86628a74"
      },
      "execution_count": 25,
      "outputs": [
        {
          "output_type": "execute_result",
          "data": {
            "text/plain": [
              "array([ 1.  ,  3.25,  5.5 ,  7.75, 10.  ])"
            ]
          },
          "metadata": {},
          "execution_count": 25
        }
      ]
    },
    {
      "cell_type": "markdown",
      "source": [
        "### np.random()\n",
        "\n",
        "It helps to generate random values.\n",
        "\n",
        "np.random.random() - random floats between 0.0 & 1.0\n",
        "\n",
        "np.random.randint() - random integers between your specified limits"
      ],
      "metadata": {
        "id": "l5cF2lfh8N6A"
      }
    },
    {
      "cell_type": "code",
      "source": [
        "np.random.random() #return a random float btwn 0.0 &1.0"
      ],
      "metadata": {
        "id": "6f_d8xMz8GUY",
        "colab": {
          "base_uri": "https://localhost:8080/"
        },
        "outputId": "7ef06cec-26da-431b-d825-e5056d9ed656"
      },
      "execution_count": 35,
      "outputs": [
        {
          "output_type": "execute_result",
          "data": {
            "text/plain": [
              "0.6749545923097363"
            ]
          },
          "metadata": {},
          "execution_count": 35
        }
      ]
    },
    {
      "cell_type": "code",
      "source": [
        "#to make an array we must pass a shape as its argument.\n",
        "rand_flt_arr = np.random.random(size=(3,2))\n",
        "rand_flt_arr"
      ],
      "metadata": {
        "id": "_OzRUw0yIBgM",
        "colab": {
          "base_uri": "https://localhost:8080/"
        },
        "outputId": "9758f453-531b-4fd4-d7dd-f47fdf6be00e"
      },
      "execution_count": 39,
      "outputs": [
        {
          "output_type": "execute_result",
          "data": {
            "text/plain": [
              "array([[0.64037046, 0.09968804],\n",
              "       [0.0561214 , 0.23735562],\n",
              "       [0.25605793, 0.52813231]])"
            ]
          },
          "metadata": {},
          "execution_count": 39
        }
      ]
    },
    {
      "cell_type": "markdown",
      "source": [
        "```\n",
        "np.random.randint(low, high=None, size=None)\n",
        "```"
      ],
      "metadata": {
        "id": "kz_c8Gr9J40j"
      }
    },
    {
      "cell_type": "code",
      "source": [
        "#return a random integer by passing one argument taken as max\n",
        "rand_array_1d = np.random.randint(40, size=10)\n",
        "rand_array_1d"
      ],
      "metadata": {
        "id": "e2CdBWlGIc5v",
        "colab": {
          "base_uri": "https://localhost:8080/"
        },
        "outputId": "18367fca-2cbe-49f2-a2e5-d1ddca2763d1"
      },
      "execution_count": 70,
      "outputs": [
        {
          "output_type": "execute_result",
          "data": {
            "text/plain": [
              "array([ 1, 28, 27,  2, 10, 16, 31, 33, 37,  5])"
            ]
          },
          "metadata": {},
          "execution_count": 70
        }
      ]
    },
    {
      "cell_type": "code",
      "source": [
        "#to make an array we must pass a size as its argument.\n",
        "rand_int_arr = np.random.randint(20,size=(3,4))\n",
        "rand_int_arr"
      ],
      "metadata": {
        "id": "prBOnrNWIc5x",
        "colab": {
          "base_uri": "https://localhost:8080/"
        },
        "outputId": "02687954-172c-4726-e9d6-63c531c68589"
      },
      "execution_count": 65,
      "outputs": [
        {
          "output_type": "execute_result",
          "data": {
            "text/plain": [
              "array([[15,  7, 17, 16],\n",
              "       [ 8, 11, 14,  2],\n",
              "       [12,  5,  1,  0]])"
            ]
          },
          "metadata": {},
          "execution_count": 65
        }
      ]
    },
    {
      "cell_type": "markdown",
      "source": [
        "convert an array to list"
      ],
      "metadata": {
        "id": "vyCJGL7IE_9d"
      }
    },
    {
      "cell_type": "code",
      "source": [
        "list_frm_1d = rand_array_1d.tolist()\n",
        "list_frm_1d"
      ],
      "metadata": {
        "colab": {
          "base_uri": "https://localhost:8080/"
        },
        "id": "BKpR3HtgFVY6",
        "outputId": "9634e935-1a15-4632-e286-c47a4ca91c1e"
      },
      "execution_count": 71,
      "outputs": [
        {
          "output_type": "execute_result",
          "data": {
            "text/plain": [
              "[1, 28, 27, 2, 10, 16, 31, 33, 37, 5]"
            ]
          },
          "metadata": {},
          "execution_count": 71
        }
      ]
    },
    {
      "cell_type": "markdown",
      "source": [
        "Statistical calculations other than sum, max and min are a bit tedious without using numpy."
      ],
      "metadata": {
        "id": "k3MoB_zIGxX_"
      }
    },
    {
      "cell_type": "code",
      "source": [
        "print(sum(list_frm_1d)); print(max(list_frm_1d)); print(min(list_frm_1d))"
      ],
      "metadata": {
        "colab": {
          "base_uri": "https://localhost:8080/"
        },
        "id": "9HdIuz5FF260",
        "outputId": "07e8b676-6261-4aa5-add6-cba803381296"
      },
      "execution_count": 72,
      "outputs": [
        {
          "output_type": "stream",
          "name": "stdout",
          "text": [
            "190\n",
            "37\n",
            "1\n"
          ]
        }
      ]
    },
    {
      "cell_type": "code",
      "source": [
        "rand_list_frm_2d = rand_int_arr.tolist() # a 2-d array\n",
        "rand_list_frm_2d"
      ],
      "metadata": {
        "colab": {
          "base_uri": "https://localhost:8080/"
        },
        "id": "KS0GqO2QEymo",
        "outputId": "6fc0dd23-816f-4393-8271-48043e7f7bb7"
      },
      "execution_count": 74,
      "outputs": [
        {
          "output_type": "execute_result",
          "data": {
            "text/plain": [
              "[[15, 7, 17, 16], [8, 11, 14, 2], [12, 5, 1, 0]]"
            ]
          },
          "metadata": {},
          "execution_count": 74
        }
      ]
    },
    {
      "cell_type": "code",
      "source": [
        "#sum(rand_list_frm_2d)"
      ],
      "metadata": {
        "id": "zntfmLyaHQJH"
      },
      "execution_count": 77,
      "outputs": []
    },
    {
      "cell_type": "code",
      "source": [
        "array_empty = np.empty(10)\n",
        "array_zeros = np.zeros(10)\n",
        "array_ones = np.ones(10)\n",
        "array_twos = np.full(10, 2)\n",
        "print (array_empty)\n",
        "print (array_zeros)\n",
        "print(array_ones)\n",
        "print(array_twos)"
      ],
      "metadata": {
        "colab": {
          "base_uri": "https://localhost:8080/"
        },
        "id": "bYOgr0k4JmUD",
        "outputId": "82036cc8-551a-48af-b944-b0fd3b2c3510"
      },
      "execution_count": 78,
      "outputs": [
        {
          "output_type": "stream",
          "name": "stdout",
          "text": [
            "[8.62033353e-316 0.00000000e+000 0.00000000e+000 0.00000000e+000\n",
            " 6.82391406e-310 3.21867037e-057 1.14195227e-071 4.51253070e-090\n",
            " 6.59478547e-042 6.82395501e-310]\n",
            "[0. 0. 0. 0. 0. 0. 0. 0. 0. 0.]\n",
            "[1. 1. 1. 1. 1. 1. 1. 1. 1. 1.]\n",
            "[2 2 2 2 2 2 2 2 2 2]\n"
          ]
        }
      ]
    },
    {
      "cell_type": "code",
      "source": [
        "array2d_empty = np.empty((2, 4))\n",
        "array2d_zeros = np.zeros((2, 4))\n",
        "array2d_ones = np.ones((2, 4))\n",
        "array2d_twos = np.full((2, 4), 2)\n",
        "print(array2d_empty)\n",
        "print(array2d_zeros)\n",
        "print(array2d_ones)\n",
        "print(array2d_twos)"
      ],
      "metadata": {
        "colab": {
          "base_uri": "https://localhost:8080/"
        },
        "id": "laBtDblxJx2T",
        "outputId": "651979f6-c2d7-4d52-f13d-64b4943c92f4"
      },
      "execution_count": 79,
      "outputs": [
        {
          "output_type": "stream",
          "name": "stdout",
          "text": [
            "[[8.21623239e-316 0.00000000e+000 7.70200376e+218 8.90005428e-316]\n",
            " [0.00000000e+000 0.00000000e+000 9.88131292e-324 0.00000000e+000]]\n",
            "[[0. 0. 0. 0.]\n",
            " [0. 0. 0. 0.]]\n",
            "[[1. 1. 1. 1.]\n",
            " [1. 1. 1. 1.]]\n",
            "[[2 2 2 2]\n",
            " [2 2 2 2]]\n"
          ]
        }
      ]
    },
    {
      "cell_type": "markdown",
      "source": [
        "## Statistics With Numpy\n",
        "\n",
        "mean, median, mode, standard deviation, correlation etc."
      ],
      "metadata": {
        "id": "LvYqghPhUFs3"
      }
    },
    {
      "cell_type": "markdown",
      "source": [
        "|Function           |Measure                  |\n",
        "|-------------------|---------------------    |\n",
        "|np.mean()          |Arithmetic mean          |\n",
        "|np.median()        |Median value             |\n",
        "|np.std()           |Standard deviation       |\n",
        "|np.var()           |Variance                 |\n",
        "|np.min()/np.max()\t|Minimum and Maximum      |\n",
        "|np.percentile()\t  |Nth Percentile           |\n",
        "|np.corrcoef()\t    |Correlation coefficient  |\n",
        "|np.sum()\t          |Total sum                |\n",
        "|np.cumsum()        |Cumulative sum           |"
      ],
      "metadata": {
        "id": "7mDdEE5p-xBe"
      }
    },
    {
      "cell_type": "code",
      "source": [
        "# Creating a 1D array with an odd number of elements\n",
        "array1 = np.array([10, 2, 3, 4, 5])\n",
        "median = np.median(array1)\n",
        "print(\"Median:\", median)"
      ],
      "metadata": {
        "colab": {
          "base_uri": "https://localhost:8080/"
        },
        "id": "ZdJX_m_lGvhl",
        "outputId": "37a87171-861e-4645-e42f-b1f9e815133d"
      },
      "execution_count": 81,
      "outputs": [
        {
          "output_type": "stream",
          "name": "stdout",
          "text": [
            "Median: 4.0\n"
          ]
        }
      ]
    },
    {
      "cell_type": "code",
      "source": [
        "mean = np.mean(array1)\n",
        "print(\"Mean:\", mean)"
      ],
      "metadata": {
        "colab": {
          "base_uri": "https://localhost:8080/"
        },
        "id": "lTsqdyk3M0nd",
        "outputId": "4e928db7-b97b-4f66-9b0a-47f7ad47d94c"
      },
      "execution_count": 82,
      "outputs": [
        {
          "output_type": "stream",
          "name": "stdout",
          "text": [
            "Mean: 4.8\n"
          ]
        }
      ]
    },
    {
      "cell_type": "code",
      "source": [
        "var, std = np.var(array1), np.std(array1)\n",
        "print(\"Variance:\", var)\n",
        "print(\"Standard deviation:\", std)"
      ],
      "metadata": {
        "colab": {
          "base_uri": "https://localhost:8080/"
        },
        "id": "aeWBpvsTNDbC",
        "outputId": "f827a3b6-975a-4256-c5d5-983948048b4f"
      },
      "execution_count": 83,
      "outputs": [
        {
          "output_type": "stream",
          "name": "stdout",
          "text": [
            "Variance: 7.760000000000001\n",
            "Standard deviation: 2.785677655436824\n"
          ]
        }
      ]
    },
    {
      "cell_type": "code",
      "source": [
        "#Getting the statistical measures using functions\n",
        "\n",
        "print(rand_int_arr)\n",
        "print(f\"Sum: {np.sum(rand_int_arr)}.\")\n",
        "print(f\"Minimum value: {np.min(rand_int_arr)}.\")\n",
        "print(f\"Maximum value: {np.max(rand_int_arr)}.\")\n",
        "print(f\"Median value: {np.median(rand_int_arr)}.\")\n",
        "print(f\"Mean: {np.mean(rand_int_arr)}.\")\n",
        "print(f\"Variance: {np.var(rand_int_arr)}.\")\n",
        "print(f\"Standard deviation: {np.std(rand_int_arr)}.\")\n",
        "print(f\"Cumulative Sum: {np.cumsum(rand_int_arr)}.\")"
      ],
      "metadata": {
        "colab": {
          "base_uri": "https://localhost:8080/"
        },
        "id": "5CVfGnouOCF2",
        "outputId": "f1db4442-459e-47c9-c3d6-971de902d5ec"
      },
      "execution_count": 86,
      "outputs": [
        {
          "output_type": "stream",
          "name": "stdout",
          "text": [
            "[[15  7 17 16]\n",
            " [ 8 11 14  2]\n",
            " [12  5  1  0]]\n",
            "Sum: 108.\n",
            "Minimum value: 0.\n",
            "Maximum value: 17.\n",
            "Median value: 9.5.\n",
            "Mean: 9.0.\n",
            "Variance: 33.5.\n",
            "Standard deviation: 5.787918451395113.\n",
            "Cumulative Sum: [ 15  22  39  55  63  74  88  90 102 107 108 108].\n"
          ]
        }
      ]
    },
    {
      "cell_type": "code",
      "source": [
        "# Median along the horizontal axis (axis=1)\n",
        "median_horizontal = np.median(rand_int_arr, axis=1)\n",
        "print(\"Median along horizontal axis:\", median_horizontal)\n",
        "\n",
        "# Median along the vertical axis (axis=0)\n",
        "median_vertical = np.median(rand_int_arr, axis=0)\n",
        "print(\"Median along vertical axis:\", median_vertical)"
      ],
      "metadata": {
        "colab": {
          "base_uri": "https://localhost:8080/"
        },
        "id": "801HdZm4RdJ7",
        "outputId": "9d4f1c2f-5e04-4d4d-87b2-129abc6bf490"
      },
      "execution_count": 89,
      "outputs": [
        {
          "output_type": "stream",
          "name": "stdout",
          "text": [
            "Median along horizontal axis: [15.5  9.5  3. ]\n",
            "Median along vertical axis: [12.  7. 14.  2.]\n"
          ]
        }
      ]
    },
    {
      "cell_type": "code",
      "source": [
        "# calculate the mean along vertical axis (axis=0)\n",
        "mean_vertical = np.mean(rand_int_arr, axis=0)\n",
        "print(\"Along Vertical Axis:\",mean_vertical)  # [3. 5.]\n",
        "# calculate the mean along  (axis=1)\n",
        "mean_horizontal = np.mean(rand_int_arr, axis=1)\n",
        "print(\"Along Horizontal Axis :\",mean_horizontal)"
      ],
      "metadata": {
        "colab": {
          "base_uri": "https://localhost:8080/"
        },
        "id": "i2NDbSPCSAne",
        "outputId": "2aecf028-5a12-4e48-8bc8-79ba536815ae"
      },
      "execution_count": 91,
      "outputs": [
        {
          "output_type": "stream",
          "name": "stdout",
          "text": [
            "Along Vertical Axis: [11.66666667  7.66666667 10.66666667  6.        ]\n",
            "Along Horizontal Axis : [13.75  8.75  4.5 ]\n"
          ]
        }
      ]
    },
    {
      "cell_type": "code",
      "source": [
        "# getting the statistics with array methods\n",
        "\n",
        "print(rand_int_arr)\n",
        "print(f\"Sum: {rand_int_arr.sum()}.\")\n",
        "print(f\"Minimum value: {rand_int_arr.min()}.\")\n",
        "print(f\"Maximum value: {rand_int_arr.max()}.\")\n",
        "#print(f\"Median value: {rand_int_arr.median()}.\")\n",
        "print(f\"Mean: {rand_int_arr.mean()}.\")\n",
        "print(f\"Variance: {rand_int_arr.var()}.\")\n",
        "print(f\"Standard deviation: {rand_int_arr.std()}.\")\n",
        "print(f\"Cumulative Sum: {rand_int_arr.cumsum()}.\")"
      ],
      "metadata": {
        "colab": {
          "base_uri": "https://localhost:8080/"
        },
        "id": "yic33PQZPWwb",
        "outputId": "fca64119-5e69-444f-b2a6-ced4d4e5381e"
      },
      "execution_count": 88,
      "outputs": [
        {
          "output_type": "stream",
          "name": "stdout",
          "text": [
            "[[15  7 17 16]\n",
            " [ 8 11 14  2]\n",
            " [12  5  1  0]]\n",
            "Sum: 108.\n",
            "Minimum value: 0.\n",
            "Maximum value: 17.\n",
            "Mean: 9.0.\n",
            "Variance: 33.5.\n",
            "Standard deviation: 5.787918451395113.\n",
            "Cumulative Sum: [ 15  22  39  55  63  74  88  90 102 107 108 108].\n"
          ]
        }
      ]
    },
    {
      "cell_type": "markdown",
      "source": [
        "##### Percentiles"
      ],
      "metadata": {
        "id": "iLIhFQLvWkW2"
      }
    },
    {
      "cell_type": "code",
      "source": [
        "# compute the 25th percentile of the array\n",
        "result1 = np.percentile(rand_int_arr, 25)\n",
        "print(\"25th percentile:\",result1)\n",
        "\n",
        "# compute the 75th percentile of the array\n",
        "result2 = np.percentile(rand_int_arr, 75)\n",
        "print(\"75th percentile:\",result2)\n",
        "\n",
        "# compute the 50th percentile i.e. median of the array\n",
        "result1 = np.percentile(rand_int_arr, 50)\n",
        "print(\"50th percentile:\",result1)"
      ],
      "metadata": {
        "colab": {
          "base_uri": "https://localhost:8080/"
        },
        "id": "OXVInvkzTt0p",
        "outputId": "9b25a9c8-8329-4a91-8651-da4598cc3d1a"
      },
      "execution_count": 97,
      "outputs": [
        {
          "output_type": "stream",
          "name": "stdout",
          "text": [
            "25th percentile: 4.25\n",
            "75th percentile: 14.25\n",
            "50th percentile: 9.5\n"
          ]
        }
      ]
    },
    {
      "cell_type": "code",
      "source": [
        "np.sort(rand_int_arr.reshape(12))"
      ],
      "metadata": {
        "colab": {
          "base_uri": "https://localhost:8080/"
        },
        "id": "pcMGh8U3UEpj",
        "outputId": "cec78c80-7761-4071-d6ce-8497a3399f36"
      },
      "execution_count": 96,
      "outputs": [
        {
          "output_type": "execute_result",
          "data": {
            "text/plain": [
              "array([ 0,  1,  2,  5,  7,  8, 11, 12, 14, 15, 16, 17])"
            ]
          },
          "metadata": {},
          "execution_count": 96
        }
      ]
    },
    {
      "cell_type": "markdown",
      "source": [
        "##### Covariance"
      ],
      "metadata": {
        "id": "_KNM6Tp5XJRg"
      }
    },
    {
      "cell_type": "code",
      "source": [
        "# Data matrix\n",
        "matrix_A = np.array([[1, 0, 0, 3, 1], [3, 6, 6, 2, 9], [4, 5, 3, 8, 0]])\n",
        "print(matrix_A)\n",
        "# Covariance matrix calculation\n",
        "cov_matrix = np.cov(matrix_A)\n",
        "print(\"Covariance matrix of matrix_A:\\n\", cov_matrix)"
      ],
      "metadata": {
        "colab": {
          "base_uri": "https://localhost:8080/"
        },
        "id": "wLjfYQpDWo3-",
        "outputId": "0bf36524-864a-496c-ac76-a12cbc3ab5bc"
      },
      "execution_count": 100,
      "outputs": [
        {
          "output_type": "stream",
          "name": "stdout",
          "text": [
            "[[1 0 0 3 1]\n",
            " [3 6 6 2 9]\n",
            " [4 5 3 8 0]]\n",
            "Covariance matrix of matrix_A:\n",
            " [[ 1.5 -2.   2. ]\n",
            " [-2.   7.7 -7. ]\n",
            " [ 2.  -7.   8.5]]\n"
          ]
        }
      ]
    },
    {
      "cell_type": "markdown",
      "source": [
        "##### Correlation\n",
        "\n",
        "|   Pearson Correlation Coefficient (r)  |       Description of Relationship     |\n",
        "|:-------------------|:---------------:|\n",
        "|  r = -1              |Perfect Negative Correlation |\n",
        "| -1 < r < -0.8 | Strong Negative Correlation  |\n",
        "| - 0.8 < r < -0.5             | Moderate Negative Correlation  |\n",
        "|       - 0.5 < r < 0     |Weak Negative Correlation  |\n",
        "|       r = 0  |No Linear Correlation |\n",
        "| 0 < r < 0.5 | Weak Positive Correlation  |\n",
        "| 0.5 < r < 0.8             | Moderate Positive Correlation  |\n",
        "|       0.8 < r < 1     |Strong Positive Correlation  |\n",
        "|       r = 1  |Perfect Positive Correlation |\n",
        "\n",
        "\n",
        "<div align=\"left\" style=\"width: 800px; text-align: left;\">\n",
        "<img src=\"https://github.com/Explore-AI/Pictures/blob/f3aeedd2c056ddd233301c7186063618c1041140/regression_analysis_notebook/pearson_corr.jpg?raw=True\"\n",
        "     alt=\"Pearson Correlation\"\n",
        "     style=\"padding-bottom=0.5em\"\n",
        "     width=800px/>\n",
        "</div>"
      ],
      "metadata": {
        "id": "8mdSrqAgXJFu"
      }
    },
    {
      "cell_type": "code",
      "source": [
        "# Correlation calculation\n",
        "\n",
        "print(matrix_A)\n",
        "cov_matrix = np.corrcoef(matrix_A)\n",
        "print(\"Correlation of matrix_A:\\n\", cov_matrix)"
      ],
      "metadata": {
        "colab": {
          "base_uri": "https://localhost:8080/"
        },
        "id": "5e-loRHdXFu-",
        "outputId": "41d031da-4fd1-4de1-f70d-0d420c30fba7"
      },
      "execution_count": 102,
      "outputs": [
        {
          "output_type": "stream",
          "name": "stdout",
          "text": [
            "[[1 0 0 3 1]\n",
            " [3 6 6 2 9]\n",
            " [4 5 3 8 0]]\n",
            "Correlation of matrix_A:\n",
            " [[ 1.         -0.58848989  0.56011203]\n",
            " [-0.58848989  1.         -0.8652532 ]\n",
            " [ 0.56011203 -0.8652532   1.        ]]\n"
          ]
        }
      ]
    },
    {
      "cell_type": "markdown",
      "source": [
        "#### np.nan\n",
        "\n",
        "used to represent errors in computation or missimg values"
      ],
      "metadata": {
        "id": "cHYCQkBuaX2w"
      }
    },
    {
      "cell_type": "code",
      "source": [
        "# missing value\n",
        "miss_arr = np.array([[2,3,4],[5,7,np.nan]])\n",
        "miss_arr"
      ],
      "metadata": {
        "colab": {
          "base_uri": "https://localhost:8080/"
        },
        "id": "WXgrKJJfaeP6",
        "outputId": "b6f9dac3-5c41-44a8-9b5e-c54c71ced9ee"
      },
      "execution_count": 113,
      "outputs": [
        {
          "output_type": "execute_result",
          "data": {
            "text/plain": [
              "array([[ 2.,  3.,  4.],\n",
              "       [ 5.,  7., nan]])"
            ]
          },
          "metadata": {},
          "execution_count": 113
        }
      ]
    },
    {
      "cell_type": "code",
      "source": [
        "# computation error\n",
        "np.zeros((3,3))/np.zeros((3,3))"
      ],
      "metadata": {
        "colab": {
          "base_uri": "https://localhost:8080/"
        },
        "id": "Ulb4YQlDbKL0",
        "outputId": "001e8bc8-d1a0-4b7a-94f5-0751f31ea673"
      },
      "execution_count": 112,
      "outputs": [
        {
          "output_type": "stream",
          "name": "stderr",
          "text": [
            "<ipython-input-112-3380433166>:2: RuntimeWarning: invalid value encountered in divide\n",
            "  np.zeros((3,3))/np.zeros((3,3))\n"
          ]
        },
        {
          "output_type": "execute_result",
          "data": {
            "text/plain": [
              "array([[nan, nan, nan],\n",
              "       [nan, nan, nan],\n",
              "       [nan, nan, nan]])"
            ]
          },
          "metadata": {},
          "execution_count": 112
        }
      ]
    },
    {
      "cell_type": "code",
      "source": [
        "miss_arr.mean()"
      ],
      "metadata": {
        "colab": {
          "base_uri": "https://localhost:8080/"
        },
        "id": "mTZU5N-fb-VX",
        "outputId": "028ebeaf-7d12-4f2d-9725-0e7a9282808b"
      },
      "execution_count": 115,
      "outputs": [
        {
          "output_type": "execute_result",
          "data": {
            "text/plain": [
              "np.float64(nan)"
            ]
          },
          "metadata": {},
          "execution_count": 115
        }
      ]
    },
    {
      "cell_type": "markdown",
      "source": [
        "ccheck for presence of np.nan in an array"
      ],
      "metadata": {
        "id": "Bu-G2mGPcZjY"
      }
    },
    {
      "cell_type": "code",
      "source": [
        "np.isnan(miss_arr)"
      ],
      "metadata": {
        "colab": {
          "base_uri": "https://localhost:8080/"
        },
        "id": "vKaDUcCXcUky",
        "outputId": "f3e0ed07-4fda-4d3b-9b7d-5d52962f9519"
      },
      "execution_count": 116,
      "outputs": [
        {
          "output_type": "execute_result",
          "data": {
            "text/plain": [
              "array([[False, False, False],\n",
              "       [False, False,  True]])"
            ]
          },
          "metadata": {},
          "execution_count": 116
        }
      ]
    },
    {
      "cell_type": "code",
      "source": [
        "np.isnan(miss_arr).any()"
      ],
      "metadata": {
        "colab": {
          "base_uri": "https://localhost:8080/"
        },
        "id": "ftNr3wmlc26P",
        "outputId": "d0003f99-f21f-45a6-b756-e703099c144a"
      },
      "execution_count": 117,
      "outputs": [
        {
          "output_type": "execute_result",
          "data": {
            "text/plain": [
              "np.True_"
            ]
          },
          "metadata": {},
          "execution_count": 117
        }
      ]
    },
    {
      "cell_type": "code",
      "source": [
        "np.isnan(matrix_A)"
      ],
      "metadata": {
        "colab": {
          "base_uri": "https://localhost:8080/"
        },
        "id": "ZMa2vHFFdE6k",
        "outputId": "8d1fb703-ce85-4d59-d06c-55d3d4beed7e"
      },
      "execution_count": 118,
      "outputs": [
        {
          "output_type": "execute_result",
          "data": {
            "text/plain": [
              "array([[False, False, False, False, False],\n",
              "       [False, False, False, False, False],\n",
              "       [False, False, False, False, False]])"
            ]
          },
          "metadata": {},
          "execution_count": 118
        }
      ]
    },
    {
      "cell_type": "code",
      "source": [
        "np.isnan(matrix_A).any()"
      ],
      "metadata": {
        "colab": {
          "base_uri": "https://localhost:8080/"
        },
        "id": "t-mGsL5qdLGl",
        "outputId": "5fd4f003-d8c5-4be5-c38a-1ddc488025cf"
      },
      "execution_count": 119,
      "outputs": [
        {
          "output_type": "execute_result",
          "data": {
            "text/plain": [
              "np.False_"
            ]
          },
          "metadata": {},
          "execution_count": 119
        }
      ]
    },
    {
      "cell_type": "code",
      "source": [
        "# find and replace nan by reassigning a value\n",
        "\n",
        "miss_arr[np.isnan(miss_arr)] = 700\n",
        "miss_arr"
      ],
      "metadata": {
        "colab": {
          "base_uri": "https://localhost:8080/"
        },
        "id": "MyTEMSSSdX_Y",
        "outputId": "d8699c47-f37e-49c8-a123-4e8bfae185a1"
      },
      "execution_count": 120,
      "outputs": [
        {
          "output_type": "execute_result",
          "data": {
            "text/plain": [
              "array([[  2.,   3.,   4.],\n",
              "       [  5.,   7., 700.]])"
            ]
          },
          "metadata": {},
          "execution_count": 120
        }
      ]
    },
    {
      "cell_type": "markdown",
      "metadata": {
        "id": "ux_kptRZNesL"
      },
      "source": [
        "# FILE HANDLING\n",
        "\n",
        "In Python, the `open()` function is used to open a file and return a file object.\n",
        "\n",
        "Syntax:\n",
        "\n",
        "    file_object = open(file_name, mode)\n",
        "\n",
        "The most common modes when opening a file into a python file object are:\n",
        "\n",
        "* 'r': Read mode (default)\n",
        "\n",
        "* 'w': Write mode\n",
        "\n",
        "* 'a': Append mode\n",
        "\n",
        "* 'x': Create mode"
      ]
    },
    {
      "cell_type": "markdown",
      "source": [
        "## Create mode"
      ],
      "metadata": {
        "id": "jLSt2fqllVsS"
      }
    },
    {
      "cell_type": "code",
      "source": [
        "#create a file in working directory\n",
        "#The \"x\" argument creates a new file in the directory we are working on\n",
        "new_file = open(\"Jess-story.txt\", mode=\"x\")"
      ],
      "metadata": {
        "id": "-oHIWaMcaf3J"
      },
      "execution_count": null,
      "outputs": []
    },
    {
      "cell_type": "code",
      "source": [
        "#create a file somewhere else\n",
        "new_file2 = open(\"/content/sample_data/jess-story2.txt\",\"x\")"
      ],
      "metadata": {
        "id": "W-drMpRnfQq1"
      },
      "execution_count": null,
      "outputs": []
    },
    {
      "cell_type": "markdown",
      "source": [
        "mount your google drive on your colab and create a text file."
      ],
      "metadata": {
        "id": "mtmP7-6TgLmC"
      }
    },
    {
      "cell_type": "code",
      "execution_count": null,
      "metadata": {
        "id": "coh2FDF8YzG9"
      },
      "outputs": [],
      "source": [
        "# creating a text file in my colab notebooks folder of my google drive.\n",
        "\n",
        "file_1 = open(\"/content/drive/MyDrive/Colab Notebooks/myfile.txt\", \"x\")"
      ]
    },
    {
      "cell_type": "markdown",
      "metadata": {
        "id": "3WJWn-9PYGyR"
      },
      "source": [
        "Remember to close using the `.close()` method, it is good practice.\n",
        "\n",
        "Syntax:\n",
        "\n",
        "    file.close() #closes the file"
      ]
    },
    {
      "cell_type": "code",
      "source": [
        "new_file.close()\n",
        "new_file2.close()\n",
        "file_1.close()"
      ],
      "metadata": {
        "id": "gpZys8BjiCHy"
      },
      "execution_count": null,
      "outputs": []
    },
    {
      "cell_type": "markdown",
      "source": [
        "## Writing, Appending & Reading\n",
        "\n",
        "* Write mode uses the \"w\"-argument while opening a file to write new content into a file regardless of old content.\n",
        "\n",
        "* Append mode \"a\"-argument while opening a file to **add** some new content to the end of a file.\n",
        "\n",
        "* Read mode \"r\"-argument to **view** the content of a file."
      ],
      "metadata": {
        "id": "G_nluzxYhwPr"
      }
    },
    {
      "cell_type": "markdown",
      "source": [
        "### Write mode"
      ],
      "metadata": {
        "id": "OmepQBe7pBAw"
      }
    },
    {
      "cell_type": "code",
      "execution_count": null,
      "metadata": {
        "id": "_YrPykyRaiUb"
      },
      "outputs": [],
      "source": [
        "#open the file ready to write new content.\n",
        "file_1 = open(\"/content/drive/MyDrive/Colab Notebooks/myfile.txt\", \"w\")\n",
        "\n",
        "file_1.write(\"Good content!\\n\")  #actually write in the content.\n",
        "file_1.write(\"We are writing some cool new stuff.\")\n",
        "file_1.close() #close the file."
      ]
    },
    {
      "cell_type": "markdown",
      "source": [
        "### Read mode"
      ],
      "metadata": {
        "id": "ABofYW68pD2u"
      }
    },
    {
      "cell_type": "code",
      "source": [
        "#open the file in read mode:\n",
        "file_1 = open(\"/content/drive/MyDrive/Colab Notebooks/myfile.txt\", \"r\")\n",
        "print(file_1.read()) #show the content of the file we opened\n",
        "file_1.close() #close the file"
      ],
      "metadata": {
        "id": "VdVRWVe7l6tn"
      },
      "execution_count": null,
      "outputs": []
    },
    {
      "cell_type": "markdown",
      "source": [
        "### Append mode"
      ],
      "metadata": {
        "id": "3VOaFjQFpHeS"
      }
    },
    {
      "cell_type": "code",
      "execution_count": null,
      "metadata": {
        "id": "ReKDwK2qZjZK"
      },
      "outputs": [],
      "source": [
        "#using the 'a' argument add more stuff to an existing file.\n",
        "\n",
        "#open the file ready to add more content.\n",
        "file_1 = open(\"/content/drive/MyDrive/Colab Notebooks/myfile.txt\", \"a\")\n",
        "file_1.write(\"\\n\\nNow the file has more content!\\n\")\n",
        "file_1.write(\"We are writing more stuff\")\n",
        "\n",
        "#open and read the file after the appending:\n",
        "file_1 = open(\"/content/drive/MyDrive/Colab Notebooks/myfile.txt\", \"r\")\n",
        "print(file_1.read())\n",
        "file_1.close()"
      ]
    },
    {
      "cell_type": "code",
      "source": [
        "# Overwrite existing content using the 'w' argument\n",
        "#means to delete everything existing before and replace with new input\n",
        "\n",
        "f = open(\"/content/drive/MyDrive/Colab Notebooks/myfile.txt\", \"w\")\n",
        "f.write(\"Replacement content Alert!\\n\")\n",
        "f.write(\"We are writing new cooler stuff.\")\n",
        "\n",
        "#open and read the file after the appending:\n",
        "f = open(\"/content/drive/MyDrive/Colab Notebooks/myfile.txt\", \"r\")\n",
        "print(f.read())\n",
        "f.close()"
      ],
      "metadata": {
        "id": "tM6So8DNk4sa"
      },
      "execution_count": null,
      "outputs": []
    },
    {
      "cell_type": "markdown",
      "source": [
        "## Context Manager\n",
        "\n",
        "* `with` keyword\n"
      ],
      "metadata": {
        "id": "H-HvaCf3rcVh"
      }
    },
    {
      "cell_type": "code",
      "source": [
        "with open(\"Jess-story.txt\", mode=\"a\") as J:\n",
        "  J.write(\"Jesselyn is fasting today.\\nMake she pray for us well well.\")"
      ],
      "metadata": {
        "id": "jX636oUFrjjY"
      },
      "execution_count": null,
      "outputs": []
    },
    {
      "cell_type": "code",
      "source": [
        "with open(\"Jess-story.txt\", mode=\"r\") as Js:\n",
        "  print(Js.read())"
      ],
      "metadata": {
        "id": "vCFSFFuCIVzs"
      },
      "execution_count": null,
      "outputs": []
    },
    {
      "cell_type": "markdown",
      "metadata": {
        "id": "39SXms5jWfWc"
      },
      "source": [
        "## Importing data with numpy\n",
        "\n",
        "* numpy.genfromtxt()\n",
        "* numpy.loadtxt()"
      ]
    },
    {
      "cell_type": "code",
      "execution_count": null,
      "metadata": {
        "id": "DfRcRkpKcwLB"
      },
      "outputs": [],
      "source": [
        "import numpy as np\n",
        "data = np.genfromtxt('/content/sample_data/california_housing_test.csv', delimiter=',')\n",
        "\n",
        "data"
      ]
    },
    {
      "cell_type": "code",
      "source": [
        "#data2 = np.loadtxt('/content/sample_data/california_housing_test.csv', delimiter=',')\n",
        "\n",
        "#data2"
      ],
      "metadata": {
        "id": "pIBG9qn5qdWf"
      },
      "execution_count": null,
      "outputs": []
    },
    {
      "cell_type": "markdown",
      "metadata": {
        "id": "UpQeRAlkYRo_"
      },
      "source": [
        "## JSON\n",
        "\n",
        "* json.load() : it accepts a file object. To read JSON data from a file and convert it into a dictionary.\n",
        "\n",
        "* Json. loads(): accepts JSON string to convert to a dictionary."
      ]
    },
    {
      "cell_type": "code",
      "execution_count": null,
      "metadata": {
        "id": "bTbxchUpRnQN"
      },
      "outputs": [],
      "source": [
        "import json\n",
        "with open('/content/sample_data/anscombe.json') as f:\n",
        "\tdata3 = json.load(f)"
      ]
    },
    {
      "cell_type": "code",
      "execution_count": null,
      "metadata": {
        "id": "dqOmA3VbfY3d"
      },
      "outputs": [],
      "source": [
        "data3"
      ]
    },
    {
      "cell_type": "code",
      "source": [
        "g = '''{\"name\": \"John Smith\", \"age\": 30, \"address\": {\n",
        "\n",
        "  \"street\": \"123 Main St\",\n",
        "  \"city\": \"Anytown\",\n",
        "  \"state\": \"CA\",\n",
        "  \"zip\": \"12345\"},\n",
        "\"phone_numbers\": [\n",
        "  \"555-555-5555\",\n",
        "  \"555-555-5556\"\n",
        "  ]\n",
        "}'''"
      ],
      "metadata": {
        "id": "LOK0ZU85jJCZ"
      },
      "execution_count": null,
      "outputs": []
    },
    {
      "cell_type": "code",
      "source": [
        "data4 = json.loads(g)\n",
        "data4"
      ],
      "metadata": {
        "id": "QlRQFqn0Q5i0"
      },
      "execution_count": null,
      "outputs": []
    },
    {
      "cell_type": "markdown",
      "source": [
        "Checkpoint:"
      ],
      "metadata": {
        "id": "EVmRZHSUqS7w"
      }
    },
    {
      "cell_type": "code",
      "source": [
        "import numpy as np\n",
        "\n",
        "file_path = \"Loan_prediction_dataset.csv\"\n",
        "\n",
        "'''with open(file_path, \"r\") as file:\n",
        "  loan = np.genfromtxt(file, delimiter=\",\")'''\n",
        "\n",
        "loan = np.genfromtxt(file_path, delimiter=\",\",skip_header=1)\n",
        "loan"
      ],
      "metadata": {
        "id": "G5sExtxfsgq_"
      },
      "execution_count": null,
      "outputs": []
    },
    {
      "cell_type": "code",
      "source": [
        "loan_amount = loan[:,8] #get the loan amount column\n",
        "loan_amount = loan_amount[~(np.isnan(loan_amount))] #remove nan values from it\n",
        "loan_amount"
      ],
      "metadata": {
        "id": "L9L5OTDVumkW"
      },
      "execution_count": null,
      "outputs": []
    },
    {
      "cell_type": "code",
      "source": [
        "print(f\"The average loan amount is {np.mean(loan_amount)},\\n\\\n",
        "the median loan amount is {np.median(loan_amount)}\\n\\\n",
        "and the standard deviation of the loan amounts is {np.std(loan_amount)}.\")"
      ],
      "metadata": {
        "id": "_C9YGEYuw1rc"
      },
      "execution_count": null,
      "outputs": []
    },
    {
      "cell_type": "code",
      "source": [
        "import csv\n"
      ],
      "metadata": {
        "id": "iDBJ6pqoL9Ix"
      },
      "execution_count": null,
      "outputs": []
    },
    {
      "cell_type": "code",
      "source": [
        "with open('/content/sample_data/california_housing_test.csv') as m:\n",
        "  data4 = csv.reader(m)\n",
        "\n",
        "  count = 0\n",
        "  for row in data4:\n",
        "    count += 1\n",
        "    if count <= 4:\n",
        "      print(row)"
      ],
      "metadata": {
        "id": "Hn7RjWlQMrir"
      },
      "execution_count": null,
      "outputs": []
    },
    {
      "cell_type": "code",
      "source": [],
      "metadata": {
        "id": "PKl-ptfIM8kW"
      },
      "execution_count": null,
      "outputs": []
    }
  ]
}